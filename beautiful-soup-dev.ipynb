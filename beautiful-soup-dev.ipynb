{
 "cells": [
  {
   "cell_type": "markdown",
   "id": "5722c42a",
   "metadata": {},
   "source": [
    "# Scrapping Scientific Update's Website\n",
    "The idea behind this notebook is to practice web scrapping skills. Scientific Update is a company that dictates training courses for professionals in chemistry, having a special focus on process chemistry and, particularly on organic sythesis. \n",
    "Our goal is to be able to develop a simple system that extract the info about all the courses that the company provides and to analyze the data in order to get some insights"
   ]
  },
  {
   "cell_type": "code",
   "execution_count": 1,
   "id": "51b5f2c0",
   "metadata": {},
   "outputs": [],
   "source": [
    "# Web Scrapping\n",
    "import requests\n",
    "from bs4 import BeautifulSoup"
   ]
  },
  {
   "cell_type": "markdown",
   "id": "fba6da5e",
   "metadata": {},
   "source": [
    "## First attempt, using BeautifulSoup"
   ]
  },
  {
   "cell_type": "code",
   "execution_count": 2,
   "id": "d96d6104",
   "metadata": {
    "scrolled": false
   },
   "outputs": [],
   "source": [
    "website = \"https://www.scientificupdate.com/training_courses/safety-selectivity-in-the-scale-up-of-chemical-reactions-11/20220503/\"\n",
    "result = requests.get(website)\n",
    "content = result.text\n",
    "\n",
    "soup = BeautifulSoup(content, \"lxml\")"
   ]
  },
  {
   "cell_type": "code",
   "execution_count": 3,
   "id": "fc1f7b6b",
   "metadata": {},
   "outputs": [],
   "source": [
    "#print(soup.prettify())"
   ]
  },
  {
   "cell_type": "markdown",
   "id": "3d001ea6",
   "metadata": {},
   "source": [
    "### Accordion"
   ]
  },
  {
   "cell_type": "code",
   "execution_count": 4,
   "id": "b9fc4409",
   "metadata": {},
   "outputs": [],
   "source": [
    "accordion = soup.find(id=\"accordion\")\n",
    "# print(accordion.prettify())"
   ]
  },
  {
   "cell_type": "markdown",
   "id": "8e02ff58",
   "metadata": {},
   "source": [
    "We can see that inside the accordion we have a \"Testimonials\" section with comments, wich has comments from previous course atendees. Whe want to extract the most relevant information about the course and we are not interested in this comments since they are only there to promote the course (therefore, they are all going to be very cherrypicked positive messages).<br>\n",
    "Let's get rid of that section turning the corde into a string, splitting it and regenerating the html at the end"
   ]
  },
  {
   "cell_type": "code",
   "execution_count": 5,
   "id": "24b46613",
   "metadata": {
    "scrolled": true
   },
   "outputs": [
    {
     "name": "stdout",
     "output_type": "stream",
     "text": [
      "<div id=\"accordion\">\n",
      " <h3>\n",
      "  Course Outline\n",
      " </h3>\n",
      " <div>\n",
      "  <p>\n",
      "   The aim of the course is to give lab chemists an understanding of the issues that need to be considered during the early stages of scale up to large laboratory scale equipment (10-20 litre vessels) / kilo lab. The course will concentrate on chemical safety and selectivity issues and include information on what safety testing equipment is available and the uses and limitations of this equipment. Attendees will learn how to identify potential problems whether they be thermal hazards or selectivity issues. Methods used by other companies for handling hazardous reagents and reactions will be described as well as alternative chemistry to circumvent these reactions and/or reagents.\n",
      "  </p>\n",
      " </div>\n",
      " <h3>\n",
      "  Benefits of Attending\n",
      " </h3>\n",
      " <div>\n",
      "  <ul>\n",
      "   <li>\n",
      "    Attendees will learn how to identify potentially unsafe chemical processes, particularly those that pose more a danger on scale\n",
      "   </li>\n",
      "   <li>\n",
      "    They will learn about what testing procedures are available to help them identify unsafe operating conditions to enable to talk knowledgably to in-house safety professionals or contract organizations\n",
      "   </li>\n",
      "   <li>\n",
      "    Sources of safety information in the literature and via the internet will be provided\n",
      "   </li>\n",
      "   <li>\n",
      "    The course provides lists of reagents and functional groups that should trigger safety testing studies\n",
      "   </li>\n",
      "   <li>\n",
      "    Methods used in other companies for handling hazardous reagents and reactions will be provided\n",
      "   </li>\n",
      "   <li>\n",
      "    Alternatives reagents or substitutes for hazardous materials will also be discussed\n",
      "   </li>\n",
      "   <li>\n",
      "    Recommendations will be provided for making the first sample of a product where there may be safety or stability concern\n",
      "   </li>\n",
      "  </ul>\n",
      "  <p>\n",
      "  </p>\n",
      " </div>\n",
      " <h3>\n",
      "  Who Should Attend\n",
      " </h3>\n",
      " <div>\n",
      "  <p>\n",
      "   Any laboratory chemist involved in the scale-up to large scale equipment/kilo lab\n",
      "  </p>\n",
      " </div>\n",
      " <h3>\n",
      "  What's Included\n",
      " </h3>\n",
      " <div>\n",
      "  <p>\n",
      "   <strong>\n",
      "    he course fee includes:\n",
      "   </strong>\n",
      "  </p>\n",
      "  <ul>\n",
      "   <li>\n",
      "    Link to watch all four live sessions\n",
      "   </li>\n",
      "   <li>\n",
      "    Electronic version of the course manual*\n",
      "   </li>\n",
      "   <li>\n",
      "    Course certificate\n",
      "   </li>\n",
      "  </ul>\n",
      "  <p>\n",
      "   For this on line course, there will be no recordings available and *the e reader manual is NOT printable or downloadable (due to copyright).  If you prefer a hard copy of the manual you will have the opportunity of purchasing a professionally printed hard copy during the booking process.\n",
      "  </p>\n",
      " </div>\n",
      "</div>\n"
     ]
    }
   ],
   "source": [
    "splitted = str(accordion).split(\"<h3>Testimonials</h3>\")[0]\n",
    "accordion = BeautifulSoup(splitted, \"lxml\").find(id=\"accordion\")\n",
    "print(accordion.prettify())"
   ]
  },
  {
   "cell_type": "markdown",
   "id": "eddfe02f",
   "metadata": {},
   "source": [
    "Much better! right? No we can see that each accordion section has an \\<h3\\> title and then a div that might contain a paragraph, a list, or both"
   ]
  },
  {
   "cell_type": "code",
   "execution_count": 6,
   "id": "717368f6",
   "metadata": {},
   "outputs": [],
   "source": [
    "divs = accordion.find_all(\"div\")\n",
    "titles = accordion.find_all(\"h3\")"
   ]
  },
  {
   "cell_type": "code",
   "execution_count": 15,
   "id": "1c1fc7c6",
   "metadata": {},
   "outputs": [
    {
     "name": "stdout",
     "output_type": "stream",
     "text": [
      "Course Outline\n",
      "The aim of the course is to give lab chemists an understanding of the issues that need to be considered during the early stages of scale up to large laboratory scale equipment (10-20 litre vessels) / kilo lab. The course will concentrate on chemical safety and selectivity issues and include information on what safety testing equipment is available and the uses and limitations of this equipment. Attendees will learn how to identify potential problems whether they be thermal hazards or selectivity issues. Methods used by other companies for handling hazardous reagents and reactions will be described as well as alternative chemistry to circumvent these reactions and/or reagents.\n",
      "\n",
      "Benefits of Attending\n",
      "Attendees will learn how to identify potentially unsafe chemical processes, particularly those that pose more a danger on scaleThey will learn about what testing procedures are available to help them identify unsafe operating conditions to enable to talk knowledgably to in-house safety professionals or contract organizationsSources of safety information in the literature and via the internet will be providedThe course provides lists of reagents and functional groups that should trigger safety testing studiesMethods used in other companies for handling hazardous reagents and reactions will be providedAlternatives reagents or substitutes for hazardous materials will also be discussedRecommendations will be provided for making the first sample of a product where there may be safety or stability concern \n",
      "\n",
      "Who Should Attend\n",
      "Any laboratory chemist involved in the scale-up to large scale equipment/kilo lab\n",
      "\n",
      "What's Included\n",
      "he course fee includes:Link to watch all four live sessionsElectronic version of the course manual*Course certificateFor this on line course, there will be no recordings available and *the e reader manual is NOT printable or downloadable (due to copyright).  If you prefer a hard copy of the manual you will have the opportunity of purchasing a professionally printed hard copy during the booking process.\n",
      "\n"
     ]
    }
   ],
   "source": [
    "for i in range(len(titles)):\n",
    "    print(titles[i].text+\"\\n\"+ divs[i].text +\"\\n\")"
   ]
  },
  {
   "cell_type": "markdown",
   "id": "126ca962",
   "metadata": {},
   "source": [
    "It can be seen that some entries inside the accordion not only have paragraphs but also lists. We are going to convert those lists into paragraphs"
   ]
  },
  {
   "cell_type": "code",
   "execution_count": 28,
   "id": "c328672b",
   "metadata": {},
   "outputs": [
    {
     "name": "stdout",
     "output_type": "stream",
     "text": [
      "\n",
      "The aim of the course is to give lab chemists an understanding of the issues that need to be considered during the early stages of scale up to large laboratory scale equipment (10-20 litre vessels) / kilo lab. The course will concentrate on chemical safety and selectivity issues and include information on what safety testing equipment is available and the uses and limitations of this equipment. Attendees will learn how to identify potential problems whether they be thermal hazards or selectivity issues. Methods used by other companies for handling hazardous reagents and reactions will be described as well as alternative chemistry to circumvent these reactions and/or reagents.\n",
      "\n",
      "\n",
      "Attendees will learn how to identify potentially unsafe chemical processes, particularly those that pose more a danger on scale. They will learn about what testing procedures are available to help them identify unsafe operating conditions to enable to talk knowledgably to in-house safety professionals or contract organizations. Sources of safety information in the literature and via the internet will be provided. The course provides lists of reagents and functional groups that should trigger safety testing studies. Methods used in other companies for handling hazardous reagents and reactions will be provided. Alternatives reagents or substitutes for hazardous materials will also be discussed. Recommendations will be provided for making the first sample of a product where there may be safety or stability concern.  \n",
      "\n",
      "\n",
      "Any laboratory chemist involved in the scale-up to large scale equipment/kilo lab\n",
      "\n",
      "\n",
      "he course fee includes: Link to watch all four live sessions. Electronic version of the course manual*. Course certificate. For this on line course, there will be no recordings available and *the e reader manual is NOT printable or downloadable (due to copyright).  If you prefer a hard copy of the manual you will have the opportunity of purchasing a professionally printed hard copy during the booking process.\n",
      "\n"
     ]
    }
   ],
   "source": [
    "new_divs= []\n",
    "changes = [{\"old\":\"<li>\", \"new\":\"\" },\n",
    "         {\"old\": \"</li>\",\"new\": \". \"},\n",
    "         {\"old\": \"<ul>\", \"new\": \"<p>\"},\n",
    "         {\"old\": \"</ul>\", \"new\": \"</p>\"},\n",
    "         {\"old\": \"<strong>\", \"new\": \"\"},\n",
    "         {\"old\": \"</strong>\", \"new\": \" \"}]\n",
    "\n",
    "for div in divs:\n",
    "    string = str(div)\n",
    "    for change in changes:\n",
    "        string = string.replace(change[\"old\"], change[\"new\"])\n",
    "    code = BeautifulSoup(string, \"html.parser\")\n",
    "    new_divs.append(code)\n",
    "    \n",
    "for div in new_divs:\n",
    "    print(\"\\n\" + div.text +\"\\n\")\n",
    "          \n",
    "        "
   ]
  },
  {
   "cell_type": "code",
   "execution_count": null,
   "id": "af515415",
   "metadata": {},
   "outputs": [],
   "source": []
  }
 ],
 "metadata": {
  "kernelspec": {
   "display_name": "scrapping",
   "language": "python",
   "name": "scrapping"
  },
  "language_info": {
   "codemirror_mode": {
    "name": "ipython",
    "version": 3
   },
   "file_extension": ".py",
   "mimetype": "text/x-python",
   "name": "python",
   "nbconvert_exporter": "python",
   "pygments_lexer": "ipython3",
   "version": "3.10.0"
  }
 },
 "nbformat": 4,
 "nbformat_minor": 5
}
