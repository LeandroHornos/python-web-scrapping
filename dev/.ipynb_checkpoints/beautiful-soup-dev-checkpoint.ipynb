{
 "cells": [
  {
   "cell_type": "markdown",
   "id": "5722c42a",
   "metadata": {},
   "source": [
    "# Scrapping Scientific Update's Website with BeautifulSoup4\n",
    "Scientific Update is a company that dictates training courses for professionals in chemistry, having a special focus on process chemistry and, particularly on organic sythesis.<br>\n",
    "Our goal is to be able to develop a simple system that extract the info about all the courses that the company provides and to analyze the data in order to get some insights\n",
    "The idea behind this notebook is to explore scientific update's site structure in order to create the functions that will handle the scraping using beautifulsoup. \n"
   ]
  },
  {
   "cell_type": "code",
   "execution_count": 1,
   "id": "51b5f2c0",
   "metadata": {},
   "outputs": [],
   "source": [
    "import re\n",
    "import json\n",
    "import time\n",
    "\n",
    "# Web Scraping\n",
    "import requests\n",
    "from bs4 import BeautifulSoup"
   ]
  },
  {
   "cell_type": "code",
   "execution_count": 2,
   "id": "d96d6104",
   "metadata": {
    "scrolled": false
   },
   "outputs": [],
   "source": [
    "website = \"https://www.scientificupdate.com/training_courses/safety-selectivity-in-the-scale-up-of-chemical-reactions-11/20220503/\"\n",
    "result = requests.get(website)\n",
    "content = result.text\n",
    "\n",
    "soup = BeautifulSoup(content, \"lxml\")"
   ]
  },
  {
   "cell_type": "code",
   "execution_count": 3,
   "id": "fc1f7b6b",
   "metadata": {},
   "outputs": [],
   "source": [
    "#print(soup.prettify())"
   ]
  },
  {
   "cell_type": "markdown",
   "id": "bcffbd24",
   "metadata": {},
   "source": [
    "### Header"
   ]
  },
  {
   "cell_type": "markdown",
   "id": "a83761f0",
   "metadata": {},
   "source": [
    "This is the main section and it contains importan info, like the title, dates and location"
   ]
  },
  {
   "cell_type": "code",
   "execution_count": 4,
   "id": "29b8b949",
   "metadata": {},
   "outputs": [
    {
     "name": "stdout",
     "output_type": "stream",
     "text": [
      "{'title': 'Safety & selectivity in the scale-up of chemical reactions', 'date': '03 May - 06 May 2022', 'location': 'Online Platform'}\n"
     ]
    }
   ],
   "source": [
    "def getTitle(soup):\n",
    "    title = None\n",
    "    main_item = soup.find(\"div\", class_=\"main-item\")\n",
    "    title = main_item.h1.text\n",
    "    return({\"title\":title})\n",
    "\n",
    "# print(getTitle(soup))\n",
    "\n",
    "\n",
    "def getHeader(soup):\n",
    "    try:\n",
    "        main_item = soup.find(\"div\", class_=\"main-item\")\n",
    "        for match in main_item.find_all(\"span\", class_=\"title\"):\n",
    "            match.replaceWith(\"\")\n",
    "        title = main_item.h1.text.capitalize().strip()\n",
    "        date = main_item.find(\"p\", \"date\").text.strip()\n",
    "        location = main_item.find(\"p\", \"location\").text.strip()\n",
    "        return({\"title\":title, \"date\": date, \"location\": location})\n",
    "    except Exception as e:\n",
    "            print(\"Header information could not be scrapped:\\n\", e)\n",
    "            return {\"title\": None, \"date\": None, \"location\": None}\n",
    "    \n",
    "soup = BeautifulSoup(content, \"lxml\")\n",
    "print(getHeader(soup))"
   ]
  },
  {
   "cell_type": "markdown",
   "id": "3d001ea6",
   "metadata": {},
   "source": [
    "### Accordion"
   ]
  },
  {
   "cell_type": "code",
   "execution_count": 5,
   "id": "b9fc4409",
   "metadata": {},
   "outputs": [],
   "source": [
    "accordion = soup.find(id=\"accordion\")\n",
    "# print(accordion.prettify())"
   ]
  },
  {
   "cell_type": "markdown",
   "id": "8e02ff58",
   "metadata": {},
   "source": [
    "We can see that inside the accordion we have a \"Testimonials\" section with comments, wich has comments from previous course atendees. Whe want to extract the most relevant information about the course and we are not interested in this comments since they are only there to promote the course (therefore, they are all going to be very cherrypicked positive messages).<br>\n",
    "Let's get rid of that section turning the corde into a string, splitting it and regenerating the html at the end"
   ]
  },
  {
   "cell_type": "code",
   "execution_count": 6,
   "id": "24b46613",
   "metadata": {
    "scrolled": true
   },
   "outputs": [],
   "source": [
    "splitted = str(accordion).split(\"<h3>Testimonials</h3>\")[0]\n",
    "accordion = BeautifulSoup(splitted, \"lxml\").find(id=\"accordion\")\n",
    "# print(accordion.prettify())"
   ]
  },
  {
   "cell_type": "markdown",
   "id": "eddfe02f",
   "metadata": {},
   "source": [
    "Much better! right? No we can see that each accordion section has an \\<h3\\> title and then a div that might contain a paragraph, a list, or both"
   ]
  },
  {
   "cell_type": "code",
   "execution_count": 7,
   "id": "717368f6",
   "metadata": {},
   "outputs": [],
   "source": [
    "divs = accordion.find_all(\"div\")\n",
    "titles = accordion.find_all(\"h3\")"
   ]
  },
  {
   "cell_type": "code",
   "execution_count": 8,
   "id": "1c1fc7c6",
   "metadata": {},
   "outputs": [
    {
     "name": "stdout",
     "output_type": "stream",
     "text": [
      "Course Outline\n",
      "The aim of the course is to give lab chemists an understanding of the issues that need to be considered during the early stages of scale up to large laboratory scale equipment (10-20 litre vessels) / kilo lab. The course will concentrate on chemical safety and selectivity issues and include information on what safety testing equipment is available and the uses and limitations of this equipment. Attendees will learn how to identify potential problems whether they be thermal hazards or selectivity issues. Methods used by other companies for handling hazardous reagents and reactions will be described as well as alternative chemistry to circumvent these reactions and/or reagents.\n",
      "\n",
      "Benefits of Attending\n",
      "Attendees will learn how to identify potentially unsafe chemical processes, particularly those that pose more a danger on scaleThey will learn about what testing procedures are available to help them identify unsafe operating conditions to enable to talk knowledgably to in-house safety professionals or contract organizationsSources of safety information in the literature and via the internet will be providedThe course provides lists of reagents and functional groups that should trigger safety testing studiesMethods used in other companies for handling hazardous reagents and reactions will be providedAlternatives reagents or substitutes for hazardous materials will also be discussedRecommendations will be provided for making the first sample of a product where there may be safety or stability concern \n",
      "\n",
      "Who Should Attend\n",
      "Any laboratory chemist involved in the scale-up to large scale equipment/kilo lab\n",
      "\n",
      "What's Included\n",
      "he course fee includes:Link to watch all four live sessionsElectronic version of the course manual*Course certificateFor this on line course, there will be no recordings available and *the e reader manual is NOT printable or downloadable (due to copyright).  If you prefer a hard copy of the manual you will have the opportunity of purchasing a professionally printed hard copy during the booking process.\n",
      "\n"
     ]
    }
   ],
   "source": [
    "for i in range(len(titles)):\n",
    "    print(titles[i].text+\"\\n\"+ divs[i].text +\"\\n\")"
   ]
  },
  {
   "cell_type": "markdown",
   "id": "bce35ba7",
   "metadata": {},
   "source": [
    "It can be seen that some entries inside the accordion not only have paragraphs but also lists. We are going to convert those lists into paragraphs"
   ]
  },
  {
   "cell_type": "code",
   "execution_count": 9,
   "id": "c328672b",
   "metadata": {},
   "outputs": [
    {
     "name": "stdout",
     "output_type": "stream",
     "text": [
      "Course Outline\n",
      "The aim of the course is to give lab chemists an understanding of the issues that need to be considered during the early stages of scale up to large laboratory scale equipment (10-20 litre vessels) / kilo lab. The course will concentrate on chemical safety and selectivity issues and include information on what safety testing equipment is available and the uses and limitations of this equipment. Attendees will learn how to identify potential problems whether they be thermal hazards or selectivity issues. Methods used by other companies for handling hazardous reagents and reactions will be described as well as alternative chemistry to circumvent these reactions and/or reagents.\n",
      "\n",
      "Benefits of Attending\n",
      "Attendees will learn how to identify potentially unsafe chemical processes, particularly those that pose more a danger on scale. They will learn about what testing procedures are available to help them identify unsafe operating conditions to enable to talk knowledgably to in-house safety professionals or contract organizations. Sources of safety information in the literature and via the internet will be provided. The course provides lists of reagents and functional groups that should trigger safety testing studies. Methods used in other companies for handling hazardous reagents and reactions will be provided. Alternatives reagents or substitutes for hazardous materials will also be discussed. Recommendations will be provided for making the first sample of a product where there may be safety or stability concern.  \n",
      "\n",
      "Who Should Attend\n",
      "Any laboratory chemist involved in the scale-up to large scale equipment/kilo lab\n",
      "\n",
      "What's Included\n",
      "he course fee includes: Link to watch all four live sessions. Electronic version of the course manual*. Course certificate. For this on line course, there will be no recordings available and *the e reader manual is NOT printable or downloadable (due to copyright).  If you prefer a hard copy of the manual you will have the opportunity of purchasing a professionally printed hard copy during the booking process.\n",
      "\n"
     ]
    }
   ],
   "source": [
    "new_divs= []\n",
    "changes = [{\"old\":\"<li>\", \"new\":\"\" },\n",
    "         {\"old\": \"</li>\",\"new\": \". \"},\n",
    "         {\"old\": \"<ul>\", \"new\": \"<p>\"},\n",
    "         {\"old\": \"</ul>\", \"new\": \"</p>\"},\n",
    "         {\"old\": \"<strong>\", \"new\": \"\"},\n",
    "         {\"old\": \"</strong>\", \"new\": \" \"}]\n",
    "\n",
    "for div in divs:\n",
    "    string = str(div)\n",
    "    for change in changes:\n",
    "        string = string.replace(change[\"old\"], change[\"new\"])\n",
    "    code = BeautifulSoup(string, \"html.parser\")\n",
    "    new_divs.append(code)\n",
    "    \n",
    "for i in range(len(titles)):\n",
    "    print(titles[i].text+\"\\n\"+ new_divs[i].text +\"\\n\")\n",
    "          \n",
    "        "
   ]
  },
  {
   "cell_type": "markdown",
   "id": "32699ec6",
   "metadata": {},
   "source": [
    "This looks good, so let's group all of this into a couple of functions."
   ]
  },
  {
   "cell_type": "markdown",
   "id": "3f71bfcd",
   "metadata": {},
   "source": [
    "### getAccordionInfo(accordion, split_tag=\"str\")\n",
    "This function gets the beautifulsoup object containing the accordion code. The accordion is a component present in the course overview wich is used to display basic information about the course, splited in cards containing a title and the info. At the end of the accordion there is info that is not relevant and therefore that part of the code has to be removed. The function receives a substring that indicates where to cut the code"
   ]
  },
  {
   "cell_type": "code",
   "execution_count": 10,
   "id": "00221421",
   "metadata": {},
   "outputs": [],
   "source": [
    "def getAccordionInfo(soup, split_tag=\"<h3>Testimonials</h3>\"):\n",
    "    try:\n",
    "        accordion = soup.find(id=\"accordion\")\n",
    "        #config\n",
    "        changes = [{\"old\":\"<li>\", \"new\":\"\" },\n",
    "             {\"old\": \"</li>\",\"new\": \". \"},\n",
    "             {\"old\": \"<ul>\", \"new\": \"<p>\"},\n",
    "             {\"old\": \"</ul>\", \"new\": \"</p>\"},\n",
    "             {\"old\": \"<strong>\", \"new\": \"\"},\n",
    "             {\"old\": \"</strong>\", \"new\": \" \"}]\n",
    "\n",
    "        # Accordion is splitted and only the beggining is kept\n",
    "        splitted = str(accordion).split(split_tag)[0]\n",
    "        accordion = BeautifulSoup(splitted, \"lxml\").find(id=\"accordion\")\n",
    "\n",
    "        children = []\n",
    "        texts = []\n",
    "        children = accordion.findChildren(recursive=False)\n",
    "        for child in children:\n",
    "            if(child.name in [\"h1\",\"h2\",\"h3\"]):\n",
    "                texts.append(child.text.strip().upper()+\":\")\n",
    "            else:\n",
    "                texts.append(child.text.strip())\n",
    "        text = \" \".join(texts)\n",
    "        # Remove any double spaces\n",
    "        text = re.sub(r\"([a-z])([A-Z])\",r\"\\1. \\2\",text)\n",
    "        return {\"information\": text}\n",
    "    except Exception as e:\n",
    "        print(\"Accordion information could not be scrapped:\\n\", e)\n",
    "        return {\"information\": None}"
   ]
  },
  {
   "cell_type": "markdown",
   "id": "b2204b18",
   "metadata": {},
   "source": [
    "We test here that we get the result we want:"
   ]
  },
  {
   "cell_type": "code",
   "execution_count": 11,
   "id": "1559cc67",
   "metadata": {},
   "outputs": [
    {
     "name": "stdout",
     "output_type": "stream",
     "text": [
      "COURSE OUTLINE: The aim of the course is to give lab chemists an understanding of the issues that need to be considered during the early stages of scale up to large laboratory scale equipment (10-20 litre vessels) / kilo lab. The course will concentrate on chemical safety and selectivity issues and include information on what safety testing equipment is available and the uses and limitations of this equipment. Attendees will learn how to identify potential problems whether they be thermal hazards or selectivity issues. Methods used by other companies for handling hazardous reagents and reactions will be described as well as alternative chemistry to circumvent these reactions and/or reagents. BENEFITS OF ATTENDING: Attendees will learn how to identify potentially unsafe chemical processes, particularly those that pose more a danger on scale. They will learn about what testing procedures are available to help them identify unsafe operating conditions to enable to talk knowledgably to in-house safety professionals or contract organizations. Sources of safety information in the literature and via the internet will be provided. The course provides lists of reagents and functional groups that should trigger safety testing studies. Methods used in other companies for handling hazardous reagents and reactions will be provided. Alternatives reagents or substitutes for hazardous materials will also be discussed. Recommendations will be provided for making the first sample of a product where there may be safety or stability concern WHO SHOULD ATTEND: Any laboratory chemist involved in the scale-up to large scale equipment/kilo lab WHAT'S INCLUDED: he course fee includes:Link to watch all four live sessions. Electronic version of the course manual*Course certificate. For this on line course, there will be no recordings available and *the e reader manual is NOT printable or downloadable (due to copyright).  If you prefer a hard copy of the manual you will have the opportunity of purchasing a professionally printed hard copy during the booking process.\n"
     ]
    }
   ],
   "source": [
    "data = getAccordionInfo(soup)\n",
    "for key in data.keys():\n",
    "    print(data[key])\n"
   ]
  },
  {
   "cell_type": "markdown",
   "id": "29298854",
   "metadata": {},
   "source": [
    "## Description"
   ]
  },
  {
   "cell_type": "markdown",
   "id": "13110010",
   "metadata": {},
   "source": [
    "In the center left of the page we have the overall description of the course. This includes dates and location. Let's extract that information"
   ]
  },
  {
   "cell_type": "code",
   "execution_count": 12,
   "id": "42ccf124",
   "metadata": {},
   "outputs": [],
   "source": [
    "description = soup.find(class_=\"description\")\n",
    "# print(description.prettify())"
   ]
  },
  {
   "cell_type": "code",
   "execution_count": 13,
   "id": "47fd9d01",
   "metadata": {},
   "outputs": [
    {
     "name": "stdout",
     "output_type": "stream",
     "text": [
      "<p><img alt=\"\" class=\"alignnone size-medium wp-image-10900\" height=\"59\" loading=\"lazy\" sizes=\"(max-width: 300px) 100vw, 300px\" src=\"https://www.scientificupdate.com/wp-content/uploads/2021/03/Online-Logo-300x59.png\" srcset=\"https://www.scientificupdate.com/wp-content/uploads/2021/03/Online-Logo-300x59.png 300w, https://www.scientificupdate.com/wp-content/uploads/2021/03/Online-Logo-1024x201.png 1024w, https://www.scientificupdate.com/wp-content/uploads/2021/03/Online-Logo-768x151.png 768w, https://www.scientificupdate.com/wp-content/uploads/2021/03/Online-Logo.png 1188w\" width=\"300\"/></p>\n",
      "\n",
      "\n",
      "<p>We are delighted to be able to offer this course now <span style=\"color: #ff00ff;\"><strong>ONLINE</strong></span>, this two-day course will be divided up into four sessions using an online platform, dates and times are as follows and set in BST (British Summer Time):</p>\n",
      "\n",
      "\n",
      "<p><strong>Tuesday May 3rd | </strong>2.00pm – 5.00pm BST<br/> <strong>Wednesday May 4th| </strong>2.00pm – 5.00pm BST<strong><br/> Thursday May 5th </strong>| 2.00pm – 5.00pm BST<strong><br/> </strong><strong>Friday May 6th </strong>| 2.00pm – 5.00pm BST</p>\n",
      "\n",
      "\n",
      "<p>The safety of chemical processes is critical for the whole chemical industry. It is vital that process development chemists and engineers are able to identify aspects of the chemistry that may be hazardous or pose a risk to the safety of the process or equipment.</p>\n",
      "\n",
      "\n",
      "<p>In order to do this, they need to know when to proactively engage colleagues or contractors to carry out process safety testing and hazard analysis, which in turn requires a knowledge of the equipment and test methods available.</p>\n",
      "\n",
      "\n",
      "<p>As chemical reactions are scaled up and operations become more economic the ability to remove heat from exothermic events becomes reduced and at the same time the outcome of any incident becomes much more severe.</p>\n",
      "\n",
      "\n",
      "<p>This is an almost unique course on the safety of chemical reactions and processes that are designed by chemists for chemists (and engineers) with the ultimate aim of helping the chemical industry reduce the number of chemical or process related incidents.</p>\n",
      "\n",
      "\n"
     ]
    }
   ],
   "source": [
    "for p in description.find_all(\"p\"):\n",
    "    print(p)\n",
    "    print(\"\\n\")"
   ]
  },
  {
   "cell_type": "code",
   "execution_count": 14,
   "id": "0b9903fc",
   "metadata": {},
   "outputs": [],
   "source": [
    "mode = description.find_all(\"p\")[1].find(\"strong\")\n",
    "dates = description.find_all(\"p\")[2]\n",
    "pitch = description.find_all(\"p\")[3:]"
   ]
  },
  {
   "cell_type": "code",
   "execution_count": 15,
   "id": "3548b8fa",
   "metadata": {},
   "outputs": [
    {
     "name": "stdout",
     "output_type": "stream",
     "text": [
      "<strong>ONLINE</strong>\n"
     ]
    }
   ],
   "source": [
    "print(mode)"
   ]
  },
  {
   "cell_type": "markdown",
   "id": "ca895b7c",
   "metadata": {},
   "source": [
    "### getDescriptionInfo(description)"
   ]
  },
  {
   "cell_type": "code",
   "execution_count": 16,
   "id": "f3725798",
   "metadata": {},
   "outputs": [],
   "source": [
    "\n",
    "def getDescriptionInfo(soup):\n",
    "    description = soup.find(class_=\"description\")\n",
    "    #config\n",
    "    tag_changes = [{\"old\":\"<br/>\", \"new\":\"\" },\n",
    "         {\"old\": \"|\",\"new\": \"\"},\n",
    "         {\"old\": \"<p><strong>\", \"new\": \"<p>\"},\n",
    "         {\"old\": \"<strong>\", \"new\": \"</p><p>\"},\n",
    "         {\"old\": \"</strong>\", \"new\": \"\"},]\n",
    "     \n",
    "    # Get the raw data from the description html\n",
    "\n",
    "    raw_pitch = description.find_all(\"p\")\n",
    "\n",
    "    \n",
    "    # Unify the pitch in one single text\n",
    "    pitch = \"\"\n",
    "    for p in raw_pitch:\n",
    "        pitch = pitch + \" \" + p.text\n",
    "    pitch = pitch.strip()\n",
    "    \n",
    "    return({\"pitch\": pitch})\n"
   ]
  },
  {
   "cell_type": "markdown",
   "id": "4aeb62ab",
   "metadata": {},
   "source": [
    "### Fee Info"
   ]
  },
  {
   "cell_type": "markdown",
   "id": "f7abbb95",
   "metadata": {},
   "source": [
    "This one is a little bit tricky beacuse the fee info is inside a div just a rather generic \"box\" class. Therefore, we are going to have to target the text itself, and find the div of the box class that contains an h3 tag with the text \"fee info\"."
   ]
  },
  {
   "cell_type": "code",
   "execution_count": 17,
   "id": "8b12e415",
   "metadata": {},
   "outputs": [
    {
     "name": "stdout",
     "output_type": "stream",
     "text": [
      "[<div class=\"box\"><h3>Fee Info</h3><p><span class=\"price\">£1499.00 + VAT*, you will also have the choice to select payment in Dollars or Euros. *VAT will only be added to those companies based in the UK</span></p><h4>Discounts</h4><p>Up to 15% discount available on multiple bookings</p> <a class=\"booknow registrationAccess\" role=\"button\">Book Now</a></div>, <div class=\"box\"><h3>Helpful Info</h3><p class=\"short-address\" style=\"font-weight: bold\"> Online Platform</p><p class=\"address\">Join us from home</p></div>]\n"
     ]
    }
   ],
   "source": [
    "boxes = soup.find_all(\"div\", class_=\"box\")\n",
    "print(boxes)"
   ]
  },
  {
   "cell_type": "code",
   "execution_count": 18,
   "id": "5c49a06f",
   "metadata": {},
   "outputs": [
    {
     "name": "stdout",
     "output_type": "stream",
     "text": [
      "we found the box\n",
      " <div class=\"box\">\n",
      " <h3>\n",
      "  Fee Info\n",
      " </h3>\n",
      " <p>\n",
      "  <span class=\"price\">\n",
      "   £1499.00 + VAT*, you will also have the choice to select payment in Dollars or Euros. *VAT will only be added to those companies based in the UK\n",
      "  </span>\n",
      " </p>\n",
      " <h4>\n",
      "  Discounts\n",
      " </h4>\n",
      " <p>\n",
      "  Up to 15% discount available on multiple bookings\n",
      " </p>\n",
      " <a class=\"booknow registrationAccess\" role=\"button\">\n",
      "  Book Now\n",
      " </a>\n",
      "</div>\n",
      "\n"
     ]
    }
   ],
   "source": [
    "box = None\n",
    "for div in boxes:\n",
    "    if(div.h3):\n",
    "        if div.h3.text.upper() == \"FEE INFO\":\n",
    "            box = div\n",
    "    \n",
    "print(\"we found the box\\n\", box.prettify())\n"
   ]
  },
  {
   "cell_type": "markdown",
   "id": "79708e18",
   "metadata": {},
   "source": [
    "Now we can see that the price is inside a span with a class called \"price\""
   ]
  },
  {
   "cell_type": "code",
   "execution_count": 19,
   "id": "c9e1dbe8",
   "metadata": {},
   "outputs": [
    {
     "name": "stdout",
     "output_type": "stream",
     "text": [
      "<span class=\"price\">£1499.00 + VAT*, you will also have the choice to select payment in Dollars or Euros. *VAT will only be added to those companies based in the UK</span>\n"
     ]
    }
   ],
   "source": [
    "price = box.find(\"span\", class_=\"price\")\n",
    "print(price)"
   ]
  },
  {
   "cell_type": "markdown",
   "id": "f0b06ec1",
   "metadata": {},
   "source": [
    "We have the text that mentions the price, now we are going to have to use a regular expression to match the price number."
   ]
  },
  {
   "cell_type": "code",
   "execution_count": 20,
   "id": "e2039ae9",
   "metadata": {},
   "outputs": [],
   "source": [
    "def getFeeInfo(soup):\n",
    "    no_result = {\"price\": None, \"currency\": None}\n",
    "    boxes = soup.find_all(\"div\", class_=\"box\")\n",
    "    box = None\n",
    "    for div in boxes:\n",
    "        if(div.h3):\n",
    "            if div.h3.text.upper() == \"FEE INFO\":\n",
    "                box = div\n",
    "    if not box:\n",
    "        return no_result\n",
    "    price = box.find(\"span\", class_=\"price\")\n",
    "    if not price:\n",
    "         return no_result\n",
    "    value = None\n",
    "    match = re.match(\"^\\£?\\$?\\d+\\.\\d+\", price.text)\n",
    "    if match:\n",
    "        value = match.group(0)\n",
    "    return {\"price\": value[1:], \"currency\": value[0] }\n",
    "        \n",
    "        \n",
    "\n"
   ]
  },
  {
   "cell_type": "code",
   "execution_count": 21,
   "id": "1e96ea6d",
   "metadata": {},
   "outputs": [
    {
     "name": "stdout",
     "output_type": "stream",
     "text": [
      "Fee Info\n",
      "\n",
      " {'price': '1499.00', 'currency': '£'}\n"
     ]
    }
   ],
   "source": [
    "fee_info = getFeeInfo(soup)\n",
    "print(\"Fee Info\\n\\n\", fee_info)"
   ]
  },
  {
   "cell_type": "markdown",
   "id": "ad6d22ff",
   "metadata": {},
   "source": [
    "## Scraping"
   ]
  },
  {
   "cell_type": "code",
   "execution_count": 22,
   "id": "3b5483dd",
   "metadata": {},
   "outputs": [],
   "source": [
    "\n",
    "def scrapCourse(soup):\n",
    "    #Scrap all data\n",
    "    header = getHeader(soup)\n",
    "    information = getAccordionInfo(soup)\n",
    "    description = getDescriptionInfo(soup)\n",
    "    fee = getFeeInfo(soup)\n",
    "    # Merge all in a dictionary\n",
    "    data = header | information | description | fee\n",
    "    return data\n"
   ]
  },
  {
   "cell_type": "markdown",
   "id": "0f538ae0",
   "metadata": {},
   "source": [
    "## TESTING"
   ]
  },
  {
   "cell_type": "code",
   "execution_count": 23,
   "id": "8072e27d",
   "metadata": {},
   "outputs": [],
   "source": [
    "website = \"https://www.scientificupdate.com/training_courses/safety-selectivity-in-the-scale-up-of-chemical-reactions-11/20220503/\"\n",
    "result = requests.get(website)\n",
    "content = result.text\n",
    "\n",
    "soup = BeautifulSoup(content, \"lxml\")\n",
    "\n",
    "data = scrapCourse(soup)\n"
   ]
  },
  {
   "cell_type": "code",
   "execution_count": 24,
   "id": "4bc514b4",
   "metadata": {},
   "outputs": [
    {
     "name": "stdout",
     "output_type": "stream",
     "text": [
      "dict_keys(['title', 'date', 'location', 'information', 'pitch', 'price', 'currency'])\n"
     ]
    }
   ],
   "source": [
    "print(data.keys())"
   ]
  },
  {
   "cell_type": "code",
   "execution_count": 25,
   "id": "0f9e8b90",
   "metadata": {},
   "outputs": [
    {
     "name": "stdout",
     "output_type": "stream",
     "text": [
      "title\n",
      "-------\n",
      "Safety & selectivity in the scale-up of chemical reactions\n",
      "\n",
      "\n",
      "date\n",
      "-------\n",
      "03 May - 06 May 2022\n",
      "\n",
      "\n",
      "location\n",
      "-------\n",
      "Online Platform\n",
      "\n",
      "\n",
      "information\n",
      "-------\n",
      "COURSE OUTLINE: The aim of the course is to give lab chemists an understanding of the issues that need to be considered during the early stages of scale up to large laboratory scale equipment (10-20 litre vessels) / kilo lab. The course will concentrate on chemical safety and selectivity issues and include information on what safety testing equipment is available and the uses and limitations of this equipment. Attendees will learn how to identify potential problems whether they be thermal hazards or selectivity issues. Methods used by other companies for handling hazardous reagents and reactions will be described as well as alternative chemistry to circumvent these reactions and/or reagents. BENEFITS OF ATTENDING: Attendees will learn how to identify potentially unsafe chemical processes, particularly those that pose more a danger on scale. They will learn about what testing procedures are available to help them identify unsafe operating conditions to enable to talk knowledgably to in-house safety professionals or contract organizations. Sources of safety information in the literature and via the internet will be provided. The course provides lists of reagents and functional groups that should trigger safety testing studies. Methods used in other companies for handling hazardous reagents and reactions will be provided. Alternatives reagents or substitutes for hazardous materials will also be discussed. Recommendations will be provided for making the first sample of a product where there may be safety or stability concern WHO SHOULD ATTEND: Any laboratory chemist involved in the scale-up to large scale equipment/kilo lab WHAT'S INCLUDED: he course fee includes:Link to watch all four live sessions. Electronic version of the course manual*Course certificate. For this on line course, there will be no recordings available and *the e reader manual is NOT printable or downloadable (due to copyright).  If you prefer a hard copy of the manual you will have the opportunity of purchasing a professionally printed hard copy during the booking process.\n",
      "\n",
      "\n",
      "pitch\n",
      "-------\n",
      "We are delighted to be able to offer this course now ONLINE, this two-day course will be divided up into four sessions using an online platform, dates and times are as follows and set in BST (British Summer Time): Tuesday May 3rd | 2.00pm – 5.00pm BST Wednesday May 4th| 2.00pm – 5.00pm BST Thursday May 5th | 2.00pm – 5.00pm BST Friday May 6th | 2.00pm – 5.00pm BST The safety of chemical processes is critical for the whole chemical industry. It is vital that process development chemists and engineers are able to identify aspects of the chemistry that may be hazardous or pose a risk to the safety of the process or equipment. In order to do this, they need to know when to proactively engage colleagues or contractors to carry out process safety testing and hazard analysis, which in turn requires a knowledge of the equipment and test methods available. As chemical reactions are scaled up and operations become more economic the ability to remove heat from exothermic events becomes reduced and at the same time the outcome of any incident becomes much more severe. This is an almost unique course on the safety of chemical reactions and processes that are designed by chemists for chemists (and engineers) with the ultimate aim of helping the chemical industry reduce the number of chemical or process related incidents.\n",
      "\n",
      "\n",
      "price\n",
      "-------\n",
      "1499.00\n",
      "\n",
      "\n",
      "currency\n",
      "-------\n",
      "£\n",
      "\n",
      "\n"
     ]
    }
   ],
   "source": [
    "for key in data.keys():\n",
    "    print(key)\n",
    "    print(\"-------\")\n",
    "    print(data[key])\n",
    "    print(\"\\n\")"
   ]
  },
  {
   "cell_type": "markdown",
   "id": "8b29faa1",
   "metadata": {},
   "source": [
    "# Crawler"
   ]
  },
  {
   "cell_type": "markdown",
   "id": "2dbd115b",
   "metadata": {},
   "source": [
    "Now we want to make a crawler that navigates the pages. We need to get the url of all courses in order to scrap them with the scrapCourse function from above."
   ]
  },
  {
   "cell_type": "code",
   "execution_count": 26,
   "id": "e4c94e3e",
   "metadata": {},
   "outputs": [],
   "source": [
    "def getLinksByClass(soup, className=\"\"):\n",
    "    urls = []\n",
    "    if className == \"\":\n",
    "        links = soup.find_all(\"a\")\n",
    "    else:\n",
    "        links = soup.find_all(\"a\", class_=className)\n",
    "    for link in links:\n",
    "        urls.append(link[\"href\"])\n",
    "    return urls"
   ]
  },
  {
   "cell_type": "code",
   "execution_count": 27,
   "id": "f44f9baf",
   "metadata": {},
   "outputs": [],
   "source": [
    "def getCoursesLinks(start_url, pause=1):\n",
    "    # In this list we will store the courses links\n",
    "    links = []\n",
    "    try:\n",
    "        # Load the first page\n",
    "        page = requests.get(start_url)\n",
    "        content = page.text\n",
    "        soup = BeautifulSoup(content, \"lxml\")\n",
    "        # get urls from page numbers links\n",
    "        next_pages = getLinksByClass(soup.find(\"div\", class_=\"pagenumbers\"))\n",
    "        print(\"Getting links from first page...\")\n",
    "        links = getLinksByClass(soup, \"view-details\")\n",
    "        # Set a timeout between calls to avoid being banned\n",
    "        time.sleep(pause)\n",
    "        # Load the other pages and get the urls from courses linlks\n",
    "        for url in next_pages:\n",
    "            print(\"Getting links from next page...\")\n",
    "            page = requests.get(url)\n",
    "            content = page.text\n",
    "            soup = BeautifulSoup(content, \"lxml\")\n",
    "            new_links = getLinksByClass(soup, \"view-details\")\n",
    "            links = [*links, *new_links]\n",
    "            # Set a timeout between calls to avoid being banned\n",
    "            time.sleep(pause)\n",
    "        print(\"Done!\")\n",
    "        return links\n",
    "    except Exception as e:\n",
    "        print(\"An error has occured when trying to retrieve the data\", e)\n",
    "        return []"
   ]
  },
  {
   "cell_type": "code",
   "execution_count": 28,
   "id": "e68c9898",
   "metadata": {},
   "outputs": [],
   "source": [
    "def scrapCourses(links, pause=1):\n",
    "    errors = []\n",
    "    courses = []\n",
    "    print(\"Scrapping started\")\n",
    "    for link in links:\n",
    "        try:\n",
    "            print(f\"Scraping {link}...\")\n",
    "            result = requests.get(link)\n",
    "            content = result.text\n",
    "            soup = BeautifulSoup(content, \"lxml\")\n",
    "            data = scrapCourse(soup)\n",
    "            data[\"link\"] = link\n",
    "            courses.append(data)\n",
    "            time.sleep(pause)\n",
    "        except Exception as e:\n",
    "            print(\"Something went wrong with this url\", e)\n",
    "            errors.append({\"link\":link, \"msg\": e})\n",
    "            continue\n",
    "    print(\"Scraping done!\")\n",
    "    return {\"courses\": courses, \"errors\": errors}"
   ]
  },
  {
   "cell_type": "code",
   "execution_count": 37,
   "id": "928344c1",
   "metadata": {},
   "outputs": [
    {
     "name": "stdout",
     "output_type": "stream",
     "text": [
      "Getting links from first page...\n",
      "Getting links from next page...\n",
      "Getting links from next page...\n",
      "Getting links from next page...\n",
      "Getting links from next page...\n",
      "Done!\n",
      "Scrapping started\n",
      "Scraping https://www.scientificupdate.com/training_courses/applied-mixing-technology-for-process-development-scaling-down-to-scale-up-5/20220314/...\n",
      "Scraping https://www.scientificupdate.com/training_courses/practical-management-of-impurities-and-development-of-effective-and-comprehensive-control-strategies-9/20220322/...\n",
      "Scraping https://www.scientificupdate.com/training_courses/biocatalysis-as-a-tool-for-the-synthetic-chemist-7/20220328/...\n",
      "Scraping https://www.scientificupdate.com/training_courses/an-introduction-to-chemical-engineering-science-3/20220425/...\n",
      "Scraping https://www.scientificupdate.com/training_courses/scale-up-what-goes-wrong-short-course-2/20220426/...\n",
      "Scraping https://www.scientificupdate.com/training_courses/safety-selectivity-in-the-scale-up-of-chemical-reactions-11/20220503/...\n",
      "Scraping https://www.scientificupdate.com/training_courses/solvents-and-solvent-selection-in-chemical-manufacturing/20220511/...\n",
      "Scraping https://www.scientificupdate.com/training_courses/fluid-transfer-and-liquid-mixing-module-1-3/20220511/...\n",
      "Scraping https://www.scientificupdate.com/training_courses/mass-transfer-applications-module-2-2/20220512/...\n",
      "Scraping https://www.scientificupdate.com/training_courses/heat-transfer-equipment-and-drying-module-3-3/20220513/...\n",
      "Scraping https://www.scientificupdate.com/training_courses/medicinal-chemistry-7/20220516/...\n",
      "Scraping https://www.scientificupdate.com/training_courses/secrets-of-batch-process-scale-up-17/20220516/...\n",
      "Scraping https://www.scientificupdate.com/training_courses/organocatalysis-short-course/20220606/...\n",
      "Scraping https://www.scientificupdate.com/training_courses/biocatalysis-solving-scale-up-issues-with-biocatalysed-reactions/20220607/...\n",
      "Scraping https://www.scientificupdate.com/training_courses/understanding-process-plant-cleaning-for-more-efficient-changeovers/20220608/...\n",
      "Scraping https://www.scientificupdate.com/training_courses/filtration-and-drying-course-2/20220614/...\n",
      "Scraping https://www.scientificupdate.com/training_courses/chemical-development-scale-up-in-the-fine-chemical-pharmaceutical-industries-32/20220614/...\n",
      "Something went wrong with this url 'NoneType' object is not subscriptable\n",
      "Scraping https://www.scientificupdate.com/training_courses/chemical-development-scale-up-in-the-fine-chemical-pharmaceutical-industries-30/20220615/...\n",
      "Something went wrong with this url 'NoneType' object is not subscriptable\n",
      "Scraping https://www.scientificupdate.com/training_courses/safety-selectivity-in-the-scale-up-of-chemical-reactions-14/20220620/...\n",
      "Scraping https://www.scientificupdate.com/training_courses/quality-by-design-in-pharmaceutical-development-7/20220627/...\n",
      "Scraping https://www.scientificupdate.com/training_courses/heterogeneous-catalytic-hydrogenation-5/20220627/...\n",
      "Something went wrong with this url 'NoneType' object is not subscriptable\n",
      "Scraping https://www.scientificupdate.com/training_courses/design-development-and-scale-up-of-safe-chemical-processes-and-operations-2/20220627/...\n",
      "Scraping https://www.scientificupdate.com/training_courses/flow-chemistry-and-masterclass/20220629/...\n",
      "Something went wrong with this url 'NoneType' object is not subscriptable\n",
      "Scraping https://www.scientificupdate.com/training_courses/design-of-experiments-for-chemists-and-engineers-8/20220711/...\n",
      "Something went wrong with this url 'NoneType' object is not subscriptable\n",
      "Scraping https://www.scientificupdate.com/training_courses/virtual-training-event-grignard-chemistry-short-course/20220712/...\n",
      "Scraping https://www.scientificupdate.com/training_courses/chemical-development-scale-up-in-the-fine-chemical-pharmaceutical-industries-35/20220714/...\n",
      "Scraping https://www.scientificupdate.com/training_courses/synthetic-organic-electrochemistry-short-course-2/20220718/...\n",
      "Scraping https://www.scientificupdate.com/training_courses/physical-organic-chemistry-concepts-for-process-development-2/20220914/...\n",
      "Scraping https://www.scientificupdate.com/training_courses/secrets-of-batch-process-scale-up-18/20220927/...\n",
      "Something went wrong with this url 'NoneType' object is not subscriptable\n",
      "Scraping https://www.scientificupdate.com/training_courses/chemical-development-scale-up-in-the-fine-chemical-pharmaceutical-industries-33/20220928/...\n",
      "Something went wrong with this url 'NoneType' object is not subscriptable\n",
      "Scraping https://www.scientificupdate.com/training_courses/applied-mixing-technology-for-process-development-scaling-down-to-scale-up-4/20221003/...\n",
      "Scraping https://www.scientificupdate.com/training_courses/modern-synthetic-organic-reactions-5/20221004/...\n",
      "Something went wrong with this url 'NoneType' object is not subscriptable\n",
      "Scraping https://www.scientificupdate.com/training_courses/green-chemistry-towards-more-sustainable-synthesis/20221004/...\n",
      "Scraping https://www.scientificupdate.com/training_courses/practical-management-of-impurities-and-development-of-effective-and-comprehensive-control-strategies-copy/20221011/...\n",
      "Something went wrong with this url 'NoneType' object is not subscriptable\n",
      "Scraping https://www.scientificupdate.com/training_courses/safety-selectivity-in-the-scale-up-of-chemical-reactions-12/20221013/...\n",
      "Scraping https://www.scientificupdate.com/training_courses/chemical-development-scale-up-in-the-fine-chemical-pharmaceutical-industries-34/20221017/...\n",
      "Something went wrong with this url 'NoneType' object is not subscriptable\n",
      "Scraping https://www.scientificupdate.com/training_courses/chemical-engineering-what-scientists-and-other-engineers-need-to-know-7/20221101/...\n",
      "Something went wrong with this url 'NoneType' object is not subscriptable\n",
      "Scraping https://www.scientificupdate.com/training_courses/design-of-experiments-for-chemists-and-engineers-9/20221101/...\n",
      "Something went wrong with this url 'NoneType' object is not subscriptable\n",
      "Scraping https://www.scientificupdate.com/training_courses/molecule-to-medicine-5/20221101/...\n",
      "Scraping https://www.scientificupdate.com/training_courses/safety-selectivity-in-the-scale-up-of-chemical-reactions-13/20221107/...\n",
      "Something went wrong with this url 'NoneType' object is not subscriptable\n",
      "Scraping https://www.scientificupdate.com/training_courses/understanding-polymorphism-crystallisation-issues-in-the-pharmaceutical-industry-6/20221109/...\n",
      "Something went wrong with this url 'NoneType' object is not subscriptable\n",
      "Scraping https://www.scientificupdate.com/training_courses/secrets-of-batch-process-scale-up-19/20221114/...\n",
      "Scraping https://www.scientificupdate.com/training_courses/work-up-and-product-isolation-2/20221115/...\n",
      "Scraping https://www.scientificupdate.com/training_courses/quality-by-design-in-pharmaceutical-development-8/20221128/...\n",
      "Scraping https://www.scientificupdate.com/training_courses/photoredox-catalysis-in-organic-synthesis/20221129/...\n",
      "Scraping done!\n",
      "We have obtained the info of 31 courses\n",
      "Errors ocurred in14 links\n"
     ]
    }
   ],
   "source": [
    "def testCrawler():\n",
    "    start_url = \"https://www.scientificupdate.com/training/courses/\"\n",
    "    links = getCoursesLinks(start_url, pause=5)\n",
    "    data = scrapCourses(links, pause=5)\n",
    "    print(\"We have obtained the info of \"+ str(len(data[\"courses\"])) +\" courses\")\n",
    "    print(\"Errors ocurred in\"+ str(len(data[\"errors\"])) +\" links\")\n",
    "    return data\n",
    "\n",
    "data = testCrawler()"
   ]
  },
  {
   "cell_type": "markdown",
   "id": "61df0358",
   "metadata": {},
   "source": [
    "Finally, we save the data to a json file"
   ]
  },
  {
   "cell_type": "code",
   "execution_count": 38,
   "id": "623e44b2",
   "metadata": {},
   "outputs": [],
   "source": [
    "with open('scrapped-data-20220315.json', 'w') as fp:\n",
    "    json.dump(data[\"courses\"], fp)"
   ]
  },
  {
   "cell_type": "code",
   "execution_count": null,
   "id": "659267b1",
   "metadata": {},
   "outputs": [],
   "source": []
  }
 ],
 "metadata": {
  "kernelspec": {
   "display_name": "scrapping",
   "language": "python",
   "name": "scrapping"
  },
  "language_info": {
   "codemirror_mode": {
    "name": "ipython",
    "version": 3
   },
   "file_extension": ".py",
   "mimetype": "text/x-python",
   "name": "python",
   "nbconvert_exporter": "python",
   "pygments_lexer": "ipython3",
   "version": "3.10.0"
  }
 },
 "nbformat": 4,
 "nbformat_minor": 5
}
