{
 "cells": [
  {
   "cell_type": "markdown",
   "id": "5722c42a",
   "metadata": {},
   "source": [
    "# Scrapping Scientific Update's Website with BeautifulSoup4\n",
    "The idea behind this notebook is to practice web scraping skills. Scientific Update is a company that dictates training courses for professionals in chemistry, having a special focus on process chemistry and, particularly on organic sythesis. \n",
    "Our goal is to be able to develop a simple system that extract the info about all the courses that the company provides and to analyze the data in order to get some insights"
   ]
  },
  {
   "cell_type": "code",
   "execution_count": 95,
   "id": "51b5f2c0",
   "metadata": {},
   "outputs": [],
   "source": [
    "# Web Scraping\n",
    "import requests\n",
    "from bs4 import BeautifulSoup"
   ]
  },
  {
   "cell_type": "code",
   "execution_count": 2,
   "id": "d96d6104",
   "metadata": {
    "scrolled": false
   },
   "outputs": [],
   "source": [
    "website = \"https://www.scientificupdate.com/training_courses/safety-selectivity-in-the-scale-up-of-chemical-reactions-11/20220503/\"\n",
    "result = requests.get(website)\n",
    "content = result.text\n",
    "\n",
    "soup = BeautifulSoup(content, \"lxml\")"
   ]
  },
  {
   "cell_type": "code",
   "execution_count": 96,
   "id": "fc1f7b6b",
   "metadata": {},
   "outputs": [],
   "source": [
    "#print(soup.prettify())"
   ]
  },
  {
   "cell_type": "markdown",
   "id": "3d001ea6",
   "metadata": {},
   "source": [
    "### Accordion"
   ]
  },
  {
   "cell_type": "code",
   "execution_count": 97,
   "id": "b9fc4409",
   "metadata": {},
   "outputs": [],
   "source": [
    "accordion = soup.find(id=\"accordion\")\n",
    "# print(accordion.prettify())"
   ]
  },
  {
   "cell_type": "markdown",
   "id": "8e02ff58",
   "metadata": {},
   "source": [
    "We can see that inside the accordion we have a \"Testimonials\" section with comments, wich has comments from previous course atendees. Whe want to extract the most relevant information about the course and we are not interested in this comments since they are only there to promote the course (therefore, they are all going to be very cherrypicked positive messages).<br>\n",
    "Let's get rid of that section turning the corde into a string, splitting it and regenerating the html at the end"
   ]
  },
  {
   "cell_type": "code",
   "execution_count": 98,
   "id": "24b46613",
   "metadata": {
    "scrolled": true
   },
   "outputs": [
    {
     "name": "stdout",
     "output_type": "stream",
     "text": [
      "<div id=\"accordion\">\n",
      " <h3>\n",
      "  Course Outline\n",
      " </h3>\n",
      " <div>\n",
      "  <p>\n",
      "   The aim of the course is to give lab chemists an understanding of the issues that need to be considered during the early stages of scale up to large laboratory scale equipment (10-20 litre vessels) / kilo lab. The course will concentrate on chemical safety and selectivity issues and include information on what safety testing equipment is available and the uses and limitations of this equipment. Attendees will learn how to identify potential problems whether they be thermal hazards or selectivity issues. Methods used by other companies for handling hazardous reagents and reactions will be described as well as alternative chemistry to circumvent these reactions and/or reagents.\n",
      "  </p>\n",
      " </div>\n",
      " <h3>\n",
      "  Benefits of Attending\n",
      " </h3>\n",
      " <div>\n",
      "  <ul>\n",
      "   <li>\n",
      "    Attendees will learn how to identify potentially unsafe chemical processes, particularly those that pose more a danger on scale\n",
      "   </li>\n",
      "   <li>\n",
      "    They will learn about what testing procedures are available to help them identify unsafe operating conditions to enable to talk knowledgably to in-house safety professionals or contract organizations\n",
      "   </li>\n",
      "   <li>\n",
      "    Sources of safety information in the literature and via the internet will be provided\n",
      "   </li>\n",
      "   <li>\n",
      "    The course provides lists of reagents and functional groups that should trigger safety testing studies\n",
      "   </li>\n",
      "   <li>\n",
      "    Methods used in other companies for handling hazardous reagents and reactions will be provided\n",
      "   </li>\n",
      "   <li>\n",
      "    Alternatives reagents or substitutes for hazardous materials will also be discussed\n",
      "   </li>\n",
      "   <li>\n",
      "    Recommendations will be provided for making the first sample of a product where there may be safety or stability concern\n",
      "   </li>\n",
      "  </ul>\n",
      "  <p>\n",
      "  </p>\n",
      " </div>\n",
      " <h3>\n",
      "  Who Should Attend\n",
      " </h3>\n",
      " <div>\n",
      "  <p>\n",
      "   Any laboratory chemist involved in the scale-up to large scale equipment/kilo lab\n",
      "  </p>\n",
      " </div>\n",
      " <h3>\n",
      "  What's Included\n",
      " </h3>\n",
      " <div>\n",
      "  <p>\n",
      "   <strong>\n",
      "    he course fee includes:\n",
      "   </strong>\n",
      "  </p>\n",
      "  <ul>\n",
      "   <li>\n",
      "    Link to watch all four live sessions\n",
      "   </li>\n",
      "   <li>\n",
      "    Electronic version of the course manual*\n",
      "   </li>\n",
      "   <li>\n",
      "    Course certificate\n",
      "   </li>\n",
      "  </ul>\n",
      "  <p>\n",
      "   For this on line course, there will be no recordings available and *the e reader manual is NOT printable or downloadable (due to copyright).  If you prefer a hard copy of the manual you will have the opportunity of purchasing a professionally printed hard copy during the booking process.\n",
      "  </p>\n",
      " </div>\n",
      "</div>\n"
     ]
    }
   ],
   "source": [
    "splitted = str(accordion).split(\"<h3>Testimonials</h3>\")[0]\n",
    "accordion = BeautifulSoup(splitted, \"lxml\").find(id=\"accordion\")\n",
    "print(accordion.prettify())"
   ]
  },
  {
   "cell_type": "markdown",
   "id": "eddfe02f",
   "metadata": {},
   "source": [
    "Much better! right? No we can see that each accordion section has an \\<h3\\> title and then a div that might contain a paragraph, a list, or both"
   ]
  },
  {
   "cell_type": "code",
   "execution_count": 99,
   "id": "717368f6",
   "metadata": {},
   "outputs": [],
   "source": [
    "divs = accordion.find_all(\"div\")\n",
    "titles = accordion.find_all(\"h3\")"
   ]
  },
  {
   "cell_type": "code",
   "execution_count": 100,
   "id": "1c1fc7c6",
   "metadata": {},
   "outputs": [
    {
     "name": "stdout",
     "output_type": "stream",
     "text": [
      "Course Outline\n",
      "The aim of the course is to give lab chemists an understanding of the issues that need to be considered during the early stages of scale up to large laboratory scale equipment (10-20 litre vessels) / kilo lab. The course will concentrate on chemical safety and selectivity issues and include information on what safety testing equipment is available and the uses and limitations of this equipment. Attendees will learn how to identify potential problems whether they be thermal hazards or selectivity issues. Methods used by other companies for handling hazardous reagents and reactions will be described as well as alternative chemistry to circumvent these reactions and/or reagents.\n",
      "\n",
      "Benefits of Attending\n",
      "Attendees will learn how to identify potentially unsafe chemical processes, particularly those that pose more a danger on scaleThey will learn about what testing procedures are available to help them identify unsafe operating conditions to enable to talk knowledgably to in-house safety professionals or contract organizationsSources of safety information in the literature and via the internet will be providedThe course provides lists of reagents and functional groups that should trigger safety testing studiesMethods used in other companies for handling hazardous reagents and reactions will be providedAlternatives reagents or substitutes for hazardous materials will also be discussedRecommendations will be provided for making the first sample of a product where there may be safety or stability concern \n",
      "\n",
      "Who Should Attend\n",
      "Any laboratory chemist involved in the scale-up to large scale equipment/kilo lab\n",
      "\n",
      "What's Included\n",
      "he course fee includes:Link to watch all four live sessionsElectronic version of the course manual*Course certificateFor this on line course, there will be no recordings available and *the e reader manual is NOT printable or downloadable (due to copyright).  If you prefer a hard copy of the manual you will have the opportunity of purchasing a professionally printed hard copy during the booking process.\n",
      "\n"
     ]
    }
   ],
   "source": [
    "for i in range(len(titles)):\n",
    "    print(titles[i].text+\"\\n\"+ divs[i].text +\"\\n\")"
   ]
  },
  {
   "cell_type": "markdown",
   "id": "bce35ba7",
   "metadata": {},
   "source": [
    "It can be seen that some entries inside the accordion not only have paragraphs but also lists. We are going to convert those lists into paragraphs"
   ]
  },
  {
   "cell_type": "code",
   "execution_count": 101,
   "id": "c328672b",
   "metadata": {},
   "outputs": [
    {
     "name": "stdout",
     "output_type": "stream",
     "text": [
      "Course Outline\n",
      "The aim of the course is to give lab chemists an understanding of the issues that need to be considered during the early stages of scale up to large laboratory scale equipment (10-20 litre vessels) / kilo lab. The course will concentrate on chemical safety and selectivity issues and include information on what safety testing equipment is available and the uses and limitations of this equipment. Attendees will learn how to identify potential problems whether they be thermal hazards or selectivity issues. Methods used by other companies for handling hazardous reagents and reactions will be described as well as alternative chemistry to circumvent these reactions and/or reagents.\n",
      "\n",
      "Benefits of Attending\n",
      "Attendees will learn how to identify potentially unsafe chemical processes, particularly those that pose more a danger on scale. They will learn about what testing procedures are available to help them identify unsafe operating conditions to enable to talk knowledgably to in-house safety professionals or contract organizations. Sources of safety information in the literature and via the internet will be provided. The course provides lists of reagents and functional groups that should trigger safety testing studies. Methods used in other companies for handling hazardous reagents and reactions will be provided. Alternatives reagents or substitutes for hazardous materials will also be discussed. Recommendations will be provided for making the first sample of a product where there may be safety or stability concern.  \n",
      "\n",
      "Who Should Attend\n",
      "Any laboratory chemist involved in the scale-up to large scale equipment/kilo lab\n",
      "\n",
      "What's Included\n",
      "he course fee includes: Link to watch all four live sessions. Electronic version of the course manual*. Course certificate. For this on line course, there will be no recordings available and *the e reader manual is NOT printable or downloadable (due to copyright).  If you prefer a hard copy of the manual you will have the opportunity of purchasing a professionally printed hard copy during the booking process.\n",
      "\n"
     ]
    }
   ],
   "source": [
    "new_divs= []\n",
    "changes = [{\"old\":\"<li>\", \"new\":\"\" },\n",
    "         {\"old\": \"</li>\",\"new\": \". \"},\n",
    "         {\"old\": \"<ul>\", \"new\": \"<p>\"},\n",
    "         {\"old\": \"</ul>\", \"new\": \"</p>\"},\n",
    "         {\"old\": \"<strong>\", \"new\": \"\"},\n",
    "         {\"old\": \"</strong>\", \"new\": \" \"}]\n",
    "\n",
    "for div in divs:\n",
    "    string = str(div)\n",
    "    for change in changes:\n",
    "        string = string.replace(change[\"old\"], change[\"new\"])\n",
    "    code = BeautifulSoup(string, \"html.parser\")\n",
    "    new_divs.append(code)\n",
    "    \n",
    "for i in range(len(titles)):\n",
    "    print(titles[i].text+\"\\n\"+ new_divs[i].text +\"\\n\")\n",
    "          \n",
    "        "
   ]
  },
  {
   "cell_type": "markdown",
   "id": "32699ec6",
   "metadata": {},
   "source": [
    "This looks good, so let's group all of this into a couple of functions."
   ]
  },
  {
   "cell_type": "markdown",
   "id": "3f71bfcd",
   "metadata": {},
   "source": [
    "### getAccordionInfo(accordion, split_tag=\"str\")\n",
    "This function gets the beautifulsoup object containing the accordion code. The accordion is a component present in the course overview wich is used to display basic information about the course, splited in cards containing a title and the info. At the end of the accordion there is info that is not relevant and therefore that part of the code has to be removed. The function receives a substring that indicates where to cut the code"
   ]
  },
  {
   "cell_type": "code",
   "execution_count": 102,
   "id": "62294efb",
   "metadata": {},
   "outputs": [],
   "source": [
    "def getAccordionInfo(accordion, split_tag=\"<h3>Testimonials</h3>\"):\n",
    "    #config\n",
    "    changes = [{\"old\":\"<li>\", \"new\":\"\" },\n",
    "         {\"old\": \"</li>\",\"new\": \". \"},\n",
    "         {\"old\": \"<ul>\", \"new\": \"<p>\"},\n",
    "         {\"old\": \"</ul>\", \"new\": \"</p>\"},\n",
    "         {\"old\": \"<strong>\", \"new\": \"\"},\n",
    "         {\"old\": \"</strong>\", \"new\": \" \"}]\n",
    "    \n",
    "    # Accordion is splitted and only the beggining is kept\n",
    "    splitted = str(accordion).split(split_tag)[0]\n",
    "    accordion = BeautifulSoup(splitted, \"lxml\").find(id=\"accordion\")\n",
    "    \n",
    "    # Get titles and divs\n",
    "    titles = accordion.find_all(\"h3\")\n",
    "    divs = accordion.find_all(\"div\")\n",
    "    \n",
    "    # Clean content\n",
    "    new_divs= []\n",
    "\n",
    "    for div in divs:\n",
    "        string = str(div)\n",
    "        for change in changes:\n",
    "            string = string.replace(change[\"old\"], change[\"new\"])\n",
    "        code = BeautifulSoup(string, \"html.parser\")\n",
    "        new_divs.append(code)\n",
    "        \n",
    "    # Prepare data and return it\n",
    "    data = []\n",
    "\n",
    "    for i in range(len(titles)):\n",
    "        data.append({\"title\":titles[i].text, \"content\":new_divs[i].text})\n",
    "    \n",
    "    return data"
   ]
  },
  {
   "cell_type": "markdown",
   "id": "b2204b18",
   "metadata": {},
   "source": [
    "We test here that we get the result we want:"
   ]
  },
  {
   "cell_type": "code",
   "execution_count": 103,
   "id": "f71f6e8d",
   "metadata": {},
   "outputs": [],
   "source": [
    "accordion = soup.find(id=\"accordion\")"
   ]
  },
  {
   "cell_type": "code",
   "execution_count": 104,
   "id": "1559cc67",
   "metadata": {},
   "outputs": [
    {
     "name": "stdout",
     "output_type": "stream",
     "text": [
      "Course Outline\n",
      "The aim of the course is to give lab chemists an understanding of the issues that need to be considered during the early stages of scale up to large laboratory scale equipment (10-20 litre vessels) / kilo lab. The course will concentrate on chemical safety and selectivity issues and include information on what safety testing equipment is available and the uses and limitations of this equipment. Attendees will learn how to identify potential problems whether they be thermal hazards or selectivity issues. Methods used by other companies for handling hazardous reagents and reactions will be described as well as alternative chemistry to circumvent these reactions and/or reagents.\n",
      "\n",
      "\n",
      "Benefits of Attending\n",
      "Attendees will learn how to identify potentially unsafe chemical processes, particularly those that pose more a danger on scale. They will learn about what testing procedures are available to help them identify unsafe operating conditions to enable to talk knowledgably to in-house safety professionals or contract organizations. Sources of safety information in the literature and via the internet will be provided. The course provides lists of reagents and functional groups that should trigger safety testing studies. Methods used in other companies for handling hazardous reagents and reactions will be provided. Alternatives reagents or substitutes for hazardous materials will also be discussed. Recommendations will be provided for making the first sample of a product where there may be safety or stability concern.  \n",
      "\n",
      "\n",
      "Who Should Attend\n",
      "Any laboratory chemist involved in the scale-up to large scale equipment/kilo lab\n",
      "\n",
      "\n",
      "What's Included\n",
      "he course fee includes: Link to watch all four live sessions. Electronic version of the course manual*. Course certificate. For this on line course, there will be no recordings available and *the e reader manual is NOT printable or downloadable (due to copyright).  If you prefer a hard copy of the manual you will have the opportunity of purchasing a professionally printed hard copy during the booking process.\n",
      "\n",
      "\n"
     ]
    }
   ],
   "source": [
    "data = getAccordionInfo(accordion)\n",
    "for entry in data:\n",
    "    print(entry[\"title\"])\n",
    "    print(entry[\"content\"])\n",
    "    print(\"\\n\")"
   ]
  },
  {
   "cell_type": "markdown",
   "id": "66cfaf08",
   "metadata": {},
   "source": [
    "## Description"
   ]
  },
  {
   "cell_type": "markdown",
   "id": "a1c7fba4",
   "metadata": {},
   "source": [
    "In the center left of the page we have the overall description of the course. This includes dates and location. Let's extract that information"
   ]
  },
  {
   "cell_type": "code",
   "execution_count": 105,
   "id": "d9b94257",
   "metadata": {},
   "outputs": [],
   "source": [
    "description = soup.find(class_=\"description\")\n",
    "# print(description.prettify())"
   ]
  },
  {
   "cell_type": "code",
   "execution_count": 106,
   "id": "54d88cce",
   "metadata": {},
   "outputs": [
    {
     "name": "stdout",
     "output_type": "stream",
     "text": [
      "<p><img alt=\"\" class=\"alignnone size-medium wp-image-10900\" height=\"59\" loading=\"lazy\" sizes=\"(max-width: 300px) 100vw, 300px\" src=\"https://www.scientificupdate.com/wp-content/uploads/2021/03/Online-Logo-300x59.png\" srcset=\"https://www.scientificupdate.com/wp-content/uploads/2021/03/Online-Logo-300x59.png 300w, https://www.scientificupdate.com/wp-content/uploads/2021/03/Online-Logo-1024x201.png 1024w, https://www.scientificupdate.com/wp-content/uploads/2021/03/Online-Logo-768x151.png 768w, https://www.scientificupdate.com/wp-content/uploads/2021/03/Online-Logo.png 1188w\" width=\"300\"/></p>\n",
      "\n",
      "\n",
      "<p>We are delighted to be able to offer this course now <span style=\"color: #ff00ff;\"><strong>ONLINE</strong></span>, this two-day course will be divided up into four sessions using an online platform, dates and times are as follows and set in BST (British Summer Time):</p>\n",
      "\n",
      "\n",
      "<p><strong>Tuesday May 3rd | </strong>2.00pm – 5.00pm BST<br/> <strong>Wednesday May 4th| </strong>2.00pm – 5.00pm BST<strong><br/> Thursday May 5th </strong>| 2.00pm – 5.00pm BST<strong><br/> </strong><strong>Friday May 6th </strong>| 2.00pm – 5.00pm BST</p>\n",
      "\n",
      "\n",
      "<p>The safety of chemical processes is critical for the whole chemical industry. It is vital that process development chemists and engineers are able to identify aspects of the chemistry that may be hazardous or pose a risk to the safety of the process or equipment.</p>\n",
      "\n",
      "\n",
      "<p>In order to do this, they need to know when to proactively engage colleagues or contractors to carry out process safety testing and hazard analysis, which in turn requires a knowledge of the equipment and test methods available.</p>\n",
      "\n",
      "\n",
      "<p>As chemical reactions are scaled up and operations become more economic the ability to remove heat from exothermic events becomes reduced and at the same time the outcome of any incident becomes much more severe.</p>\n",
      "\n",
      "\n",
      "<p>This is an almost unique course on the safety of chemical reactions and processes that are designed by chemists for chemists (and engineers) with the ultimate aim of helping the chemical industry reduce the number of chemical or process related incidents.</p>\n",
      "\n",
      "\n"
     ]
    }
   ],
   "source": [
    "for p in description.find_all(\"p\"):\n",
    "    print(p)\n",
    "    print(\"\\n\")"
   ]
  },
  {
   "cell_type": "code",
   "execution_count": 107,
   "id": "51b08275",
   "metadata": {},
   "outputs": [],
   "source": [
    "mode = description.find_all(\"p\")[1].find(\"strong\")\n",
    "dates = description.find_all(\"p\")[2]"
   ]
  },
  {
   "cell_type": "code",
   "execution_count": 108,
   "id": "5c7cf21f",
   "metadata": {},
   "outputs": [
    {
     "name": "stdout",
     "output_type": "stream",
     "text": [
      "<strong>ONLINE</strong>\n"
     ]
    }
   ],
   "source": [
    "print(mode)"
   ]
  },
  {
   "cell_type": "code",
   "execution_count": 109,
   "id": "cdf7ef13",
   "metadata": {},
   "outputs": [
    {
     "name": "stdout",
     "output_type": "stream",
     "text": [
      "<p>Tuesday May 3rd  ;2.00pm – 5.00pm BST </p><p>Wednesday May 4th ;2.00pm – 5.00pm BST</p><p> Thursday May 5th ; 2.00pm – 5.00pm BST</p><p> ;</p><p>Friday May 6th ; 2.00pm – 5.00pm BST</p>\n",
      "_________________\n",
      "['Friday May 6th; 2.00pm – 5.00pm BST', 'Friday May 6th; 2.00pm – 5.00pm BST', 'Friday May 6th; 2.00pm – 5.00pm BST', 'Friday May 6th; 2.00pm – 5.00pm BST', 'Friday May 6th; 2.00pm – 5.00pm BST']\n"
     ]
    }
   ],
   "source": [
    "dates_str = str(dates)\n",
    "dates_str = dates_str.replace(\"<br/>\",\"\").replace(\"|\",\"\").replace(\"<p><strong>\",\"<p>\").replace(\"<strong>\",\"</p><p>\").replace(\"</strong>\",\";\")\n",
    "print(dates_str)\n",
    "print(\"_________________\")\n",
    "date_ps = BeautifulSoup(dates_str, \"html.parser\")\n",
    "\n",
    "dates = []\n",
    "\n",
    "for p in date_ps:\n",
    "    if p.text.strip() != \"\":\n",
    "        dates.append(date.strip().replace(u'\\xa0', \"\").replace(\"th\",\"th;\"))\n",
    "print(dates)"
   ]
  },
  {
   "cell_type": "markdown",
   "id": "3c1842e7",
   "metadata": {},
   "source": [
    "### getDescriptionInfo(description)"
   ]
  },
  {
   "cell_type": "code",
   "execution_count": 112,
   "id": "e95fbf43",
   "metadata": {},
   "outputs": [
    {
     "name": "stdout",
     "output_type": "stream",
     "text": [
      "{'dates': ['Friday May 6th; 2.00pm – 5.00pm BST', 'Friday May 6th; 2.00pm – 5.00pm BST', 'Friday May 6th; 2.00pm – 5.00pm BST', 'Friday May 6th; 2.00pm – 5.00pm BST'], 'mode': 'online'}\n"
     ]
    }
   ],
   "source": [
    "def getDescriptionInfo(description):\n",
    "    #config\n",
    "    tag_changes = [{\"old\":\"<br/>\", \"new\":\"\" },\n",
    "         {\"old\": \"|\",\"new\": \"\"},\n",
    "         {\"old\": \"<p><strong>\", \"new\": \"<p>\"},\n",
    "         {\"old\": \"<strong>\", \"new\": \"</p><p>\"},\n",
    "         {\"old\": \"</strong>\", \"new\": \"\"},]\n",
    "     \n",
    "    mode = description.find_all(\"p\")[1].find(\"strong\").text.lower()\n",
    "    dates = []\n",
    "    raw_dates = description.find_all(\"p\")[2]\n",
    "    dates_str = str(raw_dates)\n",
    "    for change in tag_changes:\n",
    "        dates_str = dates_str.replace(change[\"old\"],change[\"new\"])\n",
    "    date_ps = BeautifulSoup(dates_str, \"html.parser\")\n",
    "\n",
    "    for p in date_ps:\n",
    "        if p.text.strip() != \"\":\n",
    "            dates.append(date.strip().replace(u'\\xa0', \"\").replace(\"th\",\"th;\"))\n",
    "    return({\"dates\":dates, \"mode\":mode})\n",
    "\n",
    "description = soup.find(class_=\"description\")\n",
    "description_data = getDescriptionInfo(description)\n",
    "print(description_data)"
   ]
  },
  {
   "cell_type": "code",
   "execution_count": null,
   "id": "123974c1",
   "metadata": {},
   "outputs": [],
   "source": []
  }
 ],
 "metadata": {
  "kernelspec": {
   "display_name": "scrapping",
   "language": "python",
   "name": "scrapping"
  },
  "language_info": {
   "codemirror_mode": {
    "name": "ipython",
    "version": 3
   },
   "file_extension": ".py",
   "mimetype": "text/x-python",
   "name": "python",
   "nbconvert_exporter": "python",
   "pygments_lexer": "ipython3",
   "version": "3.10.0"
  }
 },
 "nbformat": 4,
 "nbformat_minor": 5
}
