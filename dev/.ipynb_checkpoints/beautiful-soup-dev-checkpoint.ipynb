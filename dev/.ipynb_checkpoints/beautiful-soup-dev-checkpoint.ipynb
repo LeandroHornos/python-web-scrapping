{
 "cells": [
  {
   "cell_type": "markdown",
   "id": "5722c42a",
   "metadata": {},
   "source": [
    "# Scrapping Scientific Update's Website with BeautifulSoup4\n",
    "The idea behind this notebook is to practice web scraping skills. Scientific Update is a company that dictates training courses for professionals in chemistry, having a special focus on process chemistry and, particularly on organic sythesis. \n",
    "Our goal is to be able to develop a simple system that extract the info about all the courses that the company provides and to analyze the data in order to get some insights"
   ]
  },
  {
   "cell_type": "code",
   "execution_count": 1,
   "id": "51b5f2c0",
   "metadata": {},
   "outputs": [],
   "source": [
    "import re\n",
    "\n",
    "# Web Scraping\n",
    "import requests\n",
    "from bs4 import BeautifulSoup"
   ]
  },
  {
   "cell_type": "code",
   "execution_count": 2,
   "id": "d96d6104",
   "metadata": {
    "scrolled": false
   },
   "outputs": [],
   "source": [
    "website = \"https://www.scientificupdate.com/training_courses/safety-selectivity-in-the-scale-up-of-chemical-reactions-11/20220503/\"\n",
    "result = requests.get(website)\n",
    "content = result.text\n",
    "\n",
    "soup = BeautifulSoup(content, \"lxml\")"
   ]
  },
  {
   "cell_type": "code",
   "execution_count": 3,
   "id": "fc1f7b6b",
   "metadata": {},
   "outputs": [],
   "source": [
    "#print(soup.prettify())"
   ]
  },
  {
   "cell_type": "markdown",
   "id": "bcffbd24",
   "metadata": {},
   "source": [
    "### Header"
   ]
  },
  {
   "cell_type": "markdown",
   "id": "a83761f0",
   "metadata": {},
   "source": [
    "This is the main section and it contains importan info, like the title, dates and location"
   ]
  },
  {
   "cell_type": "code",
   "execution_count": 4,
   "id": "29b8b949",
   "metadata": {},
   "outputs": [
    {
     "name": "stdout",
     "output_type": "stream",
     "text": [
      "{'title': 'Safety & selectivity in the scale-up of chemical reactions', 'date': '03 May - 06 May 2022', 'location': 'Online Platform'}\n"
     ]
    }
   ],
   "source": [
    "def getTitle(soup):\n",
    "    title = None\n",
    "    main_item = soup.find(\"div\", class_=\"main-item\")\n",
    "    title = main_item.h1.text\n",
    "    return({\"title\":title})\n",
    "\n",
    "# print(getTitle(soup))\n",
    "\n",
    "\n",
    "def getHeader(soup):\n",
    "    try:\n",
    "        main_item = soup.find(\"div\", class_=\"main-item\")\n",
    "        for match in main_item.find_all(\"span\", class_=\"title\"):\n",
    "            match.replaceWith(\"\")\n",
    "        title = main_item.h1.text.capitalize().strip()\n",
    "        date = main_item.find(\"p\", \"date\").text.strip()\n",
    "        location = main_item.find(\"p\", \"location\").text.strip()\n",
    "        return({\"title\":title, \"date\": date, \"location\": location})\n",
    "    except Exception as e:\n",
    "            print(\"Header information could not be scrapped:\\n\", e)\n",
    "            return {\"title\": None, \"date\": None, \"location\": None}\n",
    "    \n",
    "soup = BeautifulSoup(content, \"lxml\")\n",
    "print(getHeader(soup))"
   ]
  },
  {
   "cell_type": "markdown",
   "id": "3d001ea6",
   "metadata": {},
   "source": [
    "### Accordion"
   ]
  },
  {
   "cell_type": "code",
   "execution_count": 5,
   "id": "b9fc4409",
   "metadata": {},
   "outputs": [],
   "source": [
    "accordion = soup.find(id=\"accordion\")\n",
    "# print(accordion.prettify())"
   ]
  },
  {
   "cell_type": "markdown",
   "id": "8e02ff58",
   "metadata": {},
   "source": [
    "We can see that inside the accordion we have a \"Testimonials\" section with comments, wich has comments from previous course atendees. Whe want to extract the most relevant information about the course and we are not interested in this comments since they are only there to promote the course (therefore, they are all going to be very cherrypicked positive messages).<br>\n",
    "Let's get rid of that section turning the corde into a string, splitting it and regenerating the html at the end"
   ]
  },
  {
   "cell_type": "code",
   "execution_count": 6,
   "id": "24b46613",
   "metadata": {
    "scrolled": true
   },
   "outputs": [
    {
     "name": "stdout",
     "output_type": "stream",
     "text": [
      "<div id=\"accordion\">\n",
      " <h3>\n",
      "  Course Outline\n",
      " </h3>\n",
      " <div>\n",
      "  <p>\n",
      "   The aim of the course is to give lab chemists an understanding of the issues that need to be considered during the early stages of scale up to large laboratory scale equipment (10-20 litre vessels) / kilo lab. The course will concentrate on chemical safety and selectivity issues and include information on what safety testing equipment is available and the uses and limitations of this equipment. Attendees will learn how to identify potential problems whether they be thermal hazards or selectivity issues. Methods used by other companies for handling hazardous reagents and reactions will be described as well as alternative chemistry to circumvent these reactions and/or reagents.\n",
      "  </p>\n",
      " </div>\n",
      " <h3>\n",
      "  Benefits of Attending\n",
      " </h3>\n",
      " <div>\n",
      "  <ul>\n",
      "   <li>\n",
      "    Attendees will learn how to identify potentially unsafe chemical processes, particularly those that pose more a danger on scale\n",
      "   </li>\n",
      "   <li>\n",
      "    They will learn about what testing procedures are available to help them identify unsafe operating conditions to enable to talk knowledgably to in-house safety professionals or contract organizations\n",
      "   </li>\n",
      "   <li>\n",
      "    Sources of safety information in the literature and via the internet will be provided\n",
      "   </li>\n",
      "   <li>\n",
      "    The course provides lists of reagents and functional groups that should trigger safety testing studies\n",
      "   </li>\n",
      "   <li>\n",
      "    Methods used in other companies for handling hazardous reagents and reactions will be provided\n",
      "   </li>\n",
      "   <li>\n",
      "    Alternatives reagents or substitutes for hazardous materials will also be discussed\n",
      "   </li>\n",
      "   <li>\n",
      "    Recommendations will be provided for making the first sample of a product where there may be safety or stability concern\n",
      "   </li>\n",
      "  </ul>\n",
      "  <p>\n",
      "  </p>\n",
      " </div>\n",
      " <h3>\n",
      "  Who Should Attend\n",
      " </h3>\n",
      " <div>\n",
      "  <p>\n",
      "   Any laboratory chemist involved in the scale-up to large scale equipment/kilo lab\n",
      "  </p>\n",
      " </div>\n",
      " <h3>\n",
      "  What's Included\n",
      " </h3>\n",
      " <div>\n",
      "  <p>\n",
      "   <strong>\n",
      "    he course fee includes:\n",
      "   </strong>\n",
      "  </p>\n",
      "  <ul>\n",
      "   <li>\n",
      "    Link to watch all four live sessions\n",
      "   </li>\n",
      "   <li>\n",
      "    Electronic version of the course manual*\n",
      "   </li>\n",
      "   <li>\n",
      "    Course certificate\n",
      "   </li>\n",
      "  </ul>\n",
      "  <p>\n",
      "   For this on line course, there will be no recordings available and *the e reader manual is NOT printable or downloadable (due to copyright).  If you prefer a hard copy of the manual you will have the opportunity of purchasing a professionally printed hard copy during the booking process.\n",
      "  </p>\n",
      " </div>\n",
      "</div>\n"
     ]
    }
   ],
   "source": [
    "splitted = str(accordion).split(\"<h3>Testimonials</h3>\")[0]\n",
    "accordion = BeautifulSoup(splitted, \"lxml\").find(id=\"accordion\")\n",
    "print(accordion.prettify())"
   ]
  },
  {
   "cell_type": "markdown",
   "id": "eddfe02f",
   "metadata": {},
   "source": [
    "Much better! right? No we can see that each accordion section has an \\<h3\\> title and then a div that might contain a paragraph, a list, or both"
   ]
  },
  {
   "cell_type": "code",
   "execution_count": 7,
   "id": "717368f6",
   "metadata": {},
   "outputs": [],
   "source": [
    "divs = accordion.find_all(\"div\")\n",
    "titles = accordion.find_all(\"h3\")"
   ]
  },
  {
   "cell_type": "code",
   "execution_count": 8,
   "id": "1c1fc7c6",
   "metadata": {},
   "outputs": [
    {
     "name": "stdout",
     "output_type": "stream",
     "text": [
      "Course Outline\n",
      "The aim of the course is to give lab chemists an understanding of the issues that need to be considered during the early stages of scale up to large laboratory scale equipment (10-20 litre vessels) / kilo lab. The course will concentrate on chemical safety and selectivity issues and include information on what safety testing equipment is available and the uses and limitations of this equipment. Attendees will learn how to identify potential problems whether they be thermal hazards or selectivity issues. Methods used by other companies for handling hazardous reagents and reactions will be described as well as alternative chemistry to circumvent these reactions and/or reagents.\n",
      "\n",
      "Benefits of Attending\n",
      "Attendees will learn how to identify potentially unsafe chemical processes, particularly those that pose more a danger on scaleThey will learn about what testing procedures are available to help them identify unsafe operating conditions to enable to talk knowledgably to in-house safety professionals or contract organizationsSources of safety information in the literature and via the internet will be providedThe course provides lists of reagents and functional groups that should trigger safety testing studiesMethods used in other companies for handling hazardous reagents and reactions will be providedAlternatives reagents or substitutes for hazardous materials will also be discussedRecommendations will be provided for making the first sample of a product where there may be safety or stability concern \n",
      "\n",
      "Who Should Attend\n",
      "Any laboratory chemist involved in the scale-up to large scale equipment/kilo lab\n",
      "\n",
      "What's Included\n",
      "he course fee includes:Link to watch all four live sessionsElectronic version of the course manual*Course certificateFor this on line course, there will be no recordings available and *the e reader manual is NOT printable or downloadable (due to copyright).  If you prefer a hard copy of the manual you will have the opportunity of purchasing a professionally printed hard copy during the booking process.\n",
      "\n"
     ]
    }
   ],
   "source": [
    "for i in range(len(titles)):\n",
    "    print(titles[i].text+\"\\n\"+ divs[i].text +\"\\n\")"
   ]
  },
  {
   "cell_type": "markdown",
   "id": "bce35ba7",
   "metadata": {},
   "source": [
    "It can be seen that some entries inside the accordion not only have paragraphs but also lists. We are going to convert those lists into paragraphs"
   ]
  },
  {
   "cell_type": "code",
   "execution_count": 9,
   "id": "c328672b",
   "metadata": {},
   "outputs": [
    {
     "name": "stdout",
     "output_type": "stream",
     "text": [
      "Course Outline\n",
      "The aim of the course is to give lab chemists an understanding of the issues that need to be considered during the early stages of scale up to large laboratory scale equipment (10-20 litre vessels) / kilo lab. The course will concentrate on chemical safety and selectivity issues and include information on what safety testing equipment is available and the uses and limitations of this equipment. Attendees will learn how to identify potential problems whether they be thermal hazards or selectivity issues. Methods used by other companies for handling hazardous reagents and reactions will be described as well as alternative chemistry to circumvent these reactions and/or reagents.\n",
      "\n",
      "Benefits of Attending\n",
      "Attendees will learn how to identify potentially unsafe chemical processes, particularly those that pose more a danger on scale. They will learn about what testing procedures are available to help them identify unsafe operating conditions to enable to talk knowledgably to in-house safety professionals or contract organizations. Sources of safety information in the literature and via the internet will be provided. The course provides lists of reagents and functional groups that should trigger safety testing studies. Methods used in other companies for handling hazardous reagents and reactions will be provided. Alternatives reagents or substitutes for hazardous materials will also be discussed. Recommendations will be provided for making the first sample of a product where there may be safety or stability concern.  \n",
      "\n",
      "Who Should Attend\n",
      "Any laboratory chemist involved in the scale-up to large scale equipment/kilo lab\n",
      "\n",
      "What's Included\n",
      "he course fee includes: Link to watch all four live sessions. Electronic version of the course manual*. Course certificate. For this on line course, there will be no recordings available and *the e reader manual is NOT printable or downloadable (due to copyright).  If you prefer a hard copy of the manual you will have the opportunity of purchasing a professionally printed hard copy during the booking process.\n",
      "\n"
     ]
    }
   ],
   "source": [
    "new_divs= []\n",
    "changes = [{\"old\":\"<li>\", \"new\":\"\" },\n",
    "         {\"old\": \"</li>\",\"new\": \". \"},\n",
    "         {\"old\": \"<ul>\", \"new\": \"<p>\"},\n",
    "         {\"old\": \"</ul>\", \"new\": \"</p>\"},\n",
    "         {\"old\": \"<strong>\", \"new\": \"\"},\n",
    "         {\"old\": \"</strong>\", \"new\": \" \"}]\n",
    "\n",
    "for div in divs:\n",
    "    string = str(div)\n",
    "    for change in changes:\n",
    "        string = string.replace(change[\"old\"], change[\"new\"])\n",
    "    code = BeautifulSoup(string, \"html.parser\")\n",
    "    new_divs.append(code)\n",
    "    \n",
    "for i in range(len(titles)):\n",
    "    print(titles[i].text+\"\\n\"+ new_divs[i].text +\"\\n\")\n",
    "          \n",
    "        "
   ]
  },
  {
   "cell_type": "markdown",
   "id": "32699ec6",
   "metadata": {},
   "source": [
    "This looks good, so let's group all of this into a couple of functions."
   ]
  },
  {
   "cell_type": "markdown",
   "id": "3f71bfcd",
   "metadata": {},
   "source": [
    "### getAccordionInfo(accordion, split_tag=\"str\")\n",
    "This function gets the beautifulsoup object containing the accordion code. The accordion is a component present in the course overview wich is used to display basic information about the course, splited in cards containing a title and the info. At the end of the accordion there is info that is not relevant and therefore that part of the code has to be removed. The function receives a substring that indicates where to cut the code"
   ]
  },
  {
   "cell_type": "code",
   "execution_count": 10,
   "id": "00221421",
   "metadata": {},
   "outputs": [],
   "source": [
    "def getAccordionInfo(soup, split_tag=\"<h3>Testimonials</h3>\"):\n",
    "    try:\n",
    "        accordion = soup.find(id=\"accordion\")\n",
    "        #config\n",
    "        changes = [{\"old\":\"<li>\", \"new\":\"\" },\n",
    "             {\"old\": \"</li>\",\"new\": \". \"},\n",
    "             {\"old\": \"<ul>\", \"new\": \"<p>\"},\n",
    "             {\"old\": \"</ul>\", \"new\": \"</p>\"},\n",
    "             {\"old\": \"<strong>\", \"new\": \"\"},\n",
    "             {\"old\": \"</strong>\", \"new\": \" \"}]\n",
    "\n",
    "        # Accordion is splitted and only the beggining is kept\n",
    "        splitted = str(accordion).split(split_tag)[0]\n",
    "        accordion = BeautifulSoup(splitted, \"lxml\").find(id=\"accordion\")\n",
    "\n",
    "        children = []\n",
    "        texts = []\n",
    "        children = accordion.findChildren(recursive=False)\n",
    "        for child in children:\n",
    "            if(child.name in [\"h1\",\"h2\",\"h3\"]):\n",
    "                texts.append(child.text.strip().upper()+\":\")\n",
    "            else:\n",
    "                texts.append(child.text.strip())\n",
    "        text = \" \".join(texts)\n",
    "        # Remove any double spaces\n",
    "        text = re.sub(r\"([a-z])([A-Z])\",r\"\\1. \\2\",text)\n",
    "        return {\"information\": text}\n",
    "    except Exception as e:\n",
    "        print(\"Accordion information could not be scrapped:\\n\", e)\n",
    "        return {\"information\": None}"
   ]
  },
  {
   "cell_type": "markdown",
   "id": "b2204b18",
   "metadata": {},
   "source": [
    "We test here that we get the result we want:"
   ]
  },
  {
   "cell_type": "code",
   "execution_count": 11,
   "id": "1559cc67",
   "metadata": {},
   "outputs": [
    {
     "name": "stdout",
     "output_type": "stream",
     "text": [
      "COURSE OUTLINE: The aim of the course is to give lab chemists an understanding of the issues that need to be considered during the early stages of scale up to large laboratory scale equipment (10-20 litre vessels) / kilo lab. The course will concentrate on chemical safety and selectivity issues and include information on what safety testing equipment is available and the uses and limitations of this equipment. Attendees will learn how to identify potential problems whether they be thermal hazards or selectivity issues. Methods used by other companies for handling hazardous reagents and reactions will be described as well as alternative chemistry to circumvent these reactions and/or reagents. BENEFITS OF ATTENDING: Attendees will learn how to identify potentially unsafe chemical processes, particularly those that pose more a danger on scale. They will learn about what testing procedures are available to help them identify unsafe operating conditions to enable to talk knowledgably to in-house safety professionals or contract organizations. Sources of safety information in the literature and via the internet will be provided. The course provides lists of reagents and functional groups that should trigger safety testing studies. Methods used in other companies for handling hazardous reagents and reactions will be provided. Alternatives reagents or substitutes for hazardous materials will also be discussed. Recommendations will be provided for making the first sample of a product where there may be safety or stability concern WHO SHOULD ATTEND: Any laboratory chemist involved in the scale-up to large scale equipment/kilo lab WHAT'S INCLUDED: he course fee includes:Link to watch all four live sessions. Electronic version of the course manual*Course certificate. For this on line course, there will be no recordings available and *the e reader manual is NOT printable or downloadable (due to copyright).  If you prefer a hard copy of the manual you will have the opportunity of purchasing a professionally printed hard copy during the booking process.\n"
     ]
    }
   ],
   "source": [
    "data = getAccordionInfo(soup)\n",
    "for key in data.keys():\n",
    "    print(data[key])\n"
   ]
  },
  {
   "cell_type": "markdown",
   "id": "29298854",
   "metadata": {},
   "source": [
    "## Description"
   ]
  },
  {
   "cell_type": "markdown",
   "id": "13110010",
   "metadata": {},
   "source": [
    "In the center left of the page we have the overall description of the course. This includes dates and location. Let's extract that information"
   ]
  },
  {
   "cell_type": "code",
   "execution_count": 12,
   "id": "42ccf124",
   "metadata": {},
   "outputs": [],
   "source": [
    "description = soup.find(class_=\"description\")\n",
    "# print(description.prettify())"
   ]
  },
  {
   "cell_type": "code",
   "execution_count": 13,
   "id": "47fd9d01",
   "metadata": {},
   "outputs": [
    {
     "name": "stdout",
     "output_type": "stream",
     "text": [
      "<p><img alt=\"\" class=\"alignnone size-medium wp-image-10900\" height=\"59\" loading=\"lazy\" sizes=\"(max-width: 300px) 100vw, 300px\" src=\"https://www.scientificupdate.com/wp-content/uploads/2021/03/Online-Logo-300x59.png\" srcset=\"https://www.scientificupdate.com/wp-content/uploads/2021/03/Online-Logo-300x59.png 300w, https://www.scientificupdate.com/wp-content/uploads/2021/03/Online-Logo-1024x201.png 1024w, https://www.scientificupdate.com/wp-content/uploads/2021/03/Online-Logo-768x151.png 768w, https://www.scientificupdate.com/wp-content/uploads/2021/03/Online-Logo.png 1188w\" width=\"300\"/></p>\n",
      "\n",
      "\n",
      "<p>We are delighted to be able to offer this course now <span style=\"color: #ff00ff;\"><strong>ONLINE</strong></span>, this two-day course will be divided up into four sessions using an online platform, dates and times are as follows and set in BST (British Summer Time):</p>\n",
      "\n",
      "\n",
      "<p><strong>Tuesday May 3rd | </strong>2.00pm – 5.00pm BST<br/> <strong>Wednesday May 4th| </strong>2.00pm – 5.00pm BST<strong><br/> Thursday May 5th </strong>| 2.00pm – 5.00pm BST<strong><br/> </strong><strong>Friday May 6th </strong>| 2.00pm – 5.00pm BST</p>\n",
      "\n",
      "\n",
      "<p>The safety of chemical processes is critical for the whole chemical industry. It is vital that process development chemists and engineers are able to identify aspects of the chemistry that may be hazardous or pose a risk to the safety of the process or equipment.</p>\n",
      "\n",
      "\n",
      "<p>In order to do this, they need to know when to proactively engage colleagues or contractors to carry out process safety testing and hazard analysis, which in turn requires a knowledge of the equipment and test methods available.</p>\n",
      "\n",
      "\n",
      "<p>As chemical reactions are scaled up and operations become more economic the ability to remove heat from exothermic events becomes reduced and at the same time the outcome of any incident becomes much more severe.</p>\n",
      "\n",
      "\n",
      "<p>This is an almost unique course on the safety of chemical reactions and processes that are designed by chemists for chemists (and engineers) with the ultimate aim of helping the chemical industry reduce the number of chemical or process related incidents.</p>\n",
      "\n",
      "\n"
     ]
    }
   ],
   "source": [
    "for p in description.find_all(\"p\"):\n",
    "    print(p)\n",
    "    print(\"\\n\")"
   ]
  },
  {
   "cell_type": "code",
   "execution_count": 14,
   "id": "0b9903fc",
   "metadata": {},
   "outputs": [],
   "source": [
    "mode = description.find_all(\"p\")[1].find(\"strong\")\n",
    "dates = description.find_all(\"p\")[2]\n",
    "pitch = description.find_all(\"p\")[3:]"
   ]
  },
  {
   "cell_type": "code",
   "execution_count": 15,
   "id": "3548b8fa",
   "metadata": {},
   "outputs": [
    {
     "name": "stdout",
     "output_type": "stream",
     "text": [
      "<strong>ONLINE</strong>\n"
     ]
    }
   ],
   "source": [
    "print(mode)"
   ]
  },
  {
   "cell_type": "markdown",
   "id": "ca895b7c",
   "metadata": {},
   "source": [
    "### getDescriptionInfo(description)"
   ]
  },
  {
   "cell_type": "code",
   "execution_count": 16,
   "id": "f3725798",
   "metadata": {},
   "outputs": [],
   "source": [
    "\n",
    "def getDescriptionInfo(soup):\n",
    "    description = soup.find(class_=\"description\")\n",
    "    #config\n",
    "    tag_changes = [{\"old\":\"<br/>\", \"new\":\"\" },\n",
    "         {\"old\": \"|\",\"new\": \"\"},\n",
    "         {\"old\": \"<p><strong>\", \"new\": \"<p>\"},\n",
    "         {\"old\": \"<strong>\", \"new\": \"</p><p>\"},\n",
    "         {\"old\": \"</strong>\", \"new\": \"\"},]\n",
    "     \n",
    "    # Get the raw data from the description html\n",
    "\n",
    "    raw_pitch = description.find_all(\"p\")\n",
    "\n",
    "    \n",
    "    # Unify the pitch in one single text\n",
    "    pitch = \"\"\n",
    "    for p in raw_pitch:\n",
    "        pitch = pitch + \" \" + p.text\n",
    "    pitch = pitch.strip()\n",
    "    \n",
    "    return({\"pitch\": pitch})\n"
   ]
  },
  {
   "cell_type": "markdown",
   "id": "4aeb62ab",
   "metadata": {},
   "source": [
    "### Fee Info"
   ]
  },
  {
   "cell_type": "markdown",
   "id": "f7abbb95",
   "metadata": {},
   "source": [
    "This one is a little bit tricky beacuse the fee info is inside a div just a rather generic \"box\" class. Therefore, we are going to have to target the text itself, and find the div of the box class that contains an h3 tag with the text \"fee info\"."
   ]
  },
  {
   "cell_type": "code",
   "execution_count": 17,
   "id": "8b12e415",
   "metadata": {},
   "outputs": [
    {
     "name": "stdout",
     "output_type": "stream",
     "text": [
      "[<div class=\"box\"><h3>Fee Info</h3><p><span class=\"price\">£1499.00 + VAT*, you will also have the choice to select payment in Dollars or Euros. *VAT will only be added to those companies based in the UK</span></p><h4>Discounts</h4><p>Up to 15% discount available on multiple bookings</p> <a class=\"booknow registrationAccess\" role=\"button\">Book Now</a></div>, <div class=\"box\"><h3>Helpful Info</h3><p class=\"short-address\" style=\"font-weight: bold\"> Online Platform</p><p class=\"address\">Join us from home</p></div>]\n"
     ]
    }
   ],
   "source": [
    "boxes = soup.find_all(\"div\", class_=\"box\")\n",
    "print(boxes)"
   ]
  },
  {
   "cell_type": "code",
   "execution_count": 18,
   "id": "5c49a06f",
   "metadata": {},
   "outputs": [
    {
     "name": "stdout",
     "output_type": "stream",
     "text": [
      "we found the box\n",
      " <div class=\"box\">\n",
      " <h3>\n",
      "  Fee Info\n",
      " </h3>\n",
      " <p>\n",
      "  <span class=\"price\">\n",
      "   £1499.00 + VAT*, you will also have the choice to select payment in Dollars or Euros. *VAT will only be added to those companies based in the UK\n",
      "  </span>\n",
      " </p>\n",
      " <h4>\n",
      "  Discounts\n",
      " </h4>\n",
      " <p>\n",
      "  Up to 15% discount available on multiple bookings\n",
      " </p>\n",
      " <a class=\"booknow registrationAccess\" role=\"button\">\n",
      "  Book Now\n",
      " </a>\n",
      "</div>\n",
      "\n"
     ]
    }
   ],
   "source": [
    "box = None\n",
    "for div in boxes:\n",
    "    if(div.h3):\n",
    "        if div.h3.text.upper() == \"FEE INFO\":\n",
    "            box = div\n",
    "    \n",
    "print(\"we found the box\\n\", box.prettify())\n"
   ]
  },
  {
   "cell_type": "markdown",
   "id": "79708e18",
   "metadata": {},
   "source": [
    "Now we can see that the price is inside a span with a class called \"price\""
   ]
  },
  {
   "cell_type": "code",
   "execution_count": 19,
   "id": "c9e1dbe8",
   "metadata": {},
   "outputs": [
    {
     "name": "stdout",
     "output_type": "stream",
     "text": [
      "<span class=\"price\">£1499.00 + VAT*, you will also have the choice to select payment in Dollars or Euros. *VAT will only be added to those companies based in the UK</span>\n"
     ]
    }
   ],
   "source": [
    "price = box.find(\"span\", class_=\"price\")\n",
    "print(price)"
   ]
  },
  {
   "cell_type": "markdown",
   "id": "f0b06ec1",
   "metadata": {},
   "source": [
    "We have the text that mentions the price, now we are going to have to use a regular expression to match the price number."
   ]
  },
  {
   "cell_type": "code",
   "execution_count": 20,
   "id": "e2039ae9",
   "metadata": {},
   "outputs": [],
   "source": [
    "def getFeeInfo(soup):\n",
    "    no_result = {\"price\": None, \"currency\": None}\n",
    "    boxes = soup.find_all(\"div\", class_=\"box\")\n",
    "    box = None\n",
    "    for div in boxes:\n",
    "        if(div.h3):\n",
    "            if div.h3.text.upper() == \"FEE INFO\":\n",
    "                box = div\n",
    "    if not box:\n",
    "        return no_result\n",
    "    price = box.find(\"span\", class_=\"price\")\n",
    "    if not price:\n",
    "         return no_result\n",
    "    value = None\n",
    "    match = re.match(\"^\\£?\\$?\\d+\\.\\d+\", price.text)\n",
    "    if match:\n",
    "        value = match.group(0)\n",
    "    return {\"price\": value[1:], \"currency\": value[0] }\n",
    "        \n",
    "        \n",
    "\n"
   ]
  },
  {
   "cell_type": "code",
   "execution_count": 21,
   "id": "1e96ea6d",
   "metadata": {},
   "outputs": [
    {
     "name": "stdout",
     "output_type": "stream",
     "text": [
      "Fee Info\n",
      "\n",
      " {'price': '1499.00', 'currency': '£'}\n"
     ]
    }
   ],
   "source": [
    "fee_info = getFeeInfo(soup)\n",
    "print(\"Fee Info\\n\\n\", fee_info)"
   ]
  },
  {
   "cell_type": "markdown",
   "id": "ad6d22ff",
   "metadata": {},
   "source": [
    "## Scraping"
   ]
  },
  {
   "cell_type": "code",
   "execution_count": 22,
   "id": "3b5483dd",
   "metadata": {},
   "outputs": [],
   "source": [
    "\n",
    "def scrapCourse(soup):\n",
    "    #Scrap all data\n",
    "    header = getHeader(soup)\n",
    "    information = getAccordionInfo(soup)\n",
    "    description = getDescriptionInfo(soup)\n",
    "    fee = getFeeInfo(soup)\n",
    "    # Merge all in a dictionary\n",
    "    data = header | information | description | fee\n",
    "    return data\n"
   ]
  },
  {
   "cell_type": "markdown",
   "id": "0f538ae0",
   "metadata": {},
   "source": [
    "## TESTING"
   ]
  },
  {
   "cell_type": "code",
   "execution_count": 23,
   "id": "8072e27d",
   "metadata": {},
   "outputs": [],
   "source": [
    "website = \"https://www.scientificupdate.com/training_courses/safety-selectivity-in-the-scale-up-of-chemical-reactions-11/20220503/\"\n",
    "result = requests.get(website)\n",
    "content = result.text\n",
    "\n",
    "soup = BeautifulSoup(content, \"lxml\")\n",
    "\n",
    "data = scrapCourse(soup)\n"
   ]
  },
  {
   "cell_type": "code",
   "execution_count": 24,
   "id": "4bc514b4",
   "metadata": {},
   "outputs": [
    {
     "name": "stdout",
     "output_type": "stream",
     "text": [
      "dict_keys(['title', 'date', 'location', 'information', 'pitch', 'price', 'currency'])\n"
     ]
    }
   ],
   "source": [
    "print(data.keys())"
   ]
  },
  {
   "cell_type": "code",
   "execution_count": 25,
   "id": "0f9e8b90",
   "metadata": {},
   "outputs": [
    {
     "name": "stdout",
     "output_type": "stream",
     "text": [
      "title\n",
      "-------\n",
      "Safety & selectivity in the scale-up of chemical reactions\n",
      "\n",
      "\n",
      "date\n",
      "-------\n",
      "03 May - 06 May 2022\n",
      "\n",
      "\n",
      "location\n",
      "-------\n",
      "Online Platform\n",
      "\n",
      "\n",
      "information\n",
      "-------\n",
      "COURSE OUTLINE: The aim of the course is to give lab chemists an understanding of the issues that need to be considered during the early stages of scale up to large laboratory scale equipment (10-20 litre vessels) / kilo lab. The course will concentrate on chemical safety and selectivity issues and include information on what safety testing equipment is available and the uses and limitations of this equipment. Attendees will learn how to identify potential problems whether they be thermal hazards or selectivity issues. Methods used by other companies for handling hazardous reagents and reactions will be described as well as alternative chemistry to circumvent these reactions and/or reagents. BENEFITS OF ATTENDING: Attendees will learn how to identify potentially unsafe chemical processes, particularly those that pose more a danger on scale. They will learn about what testing procedures are available to help them identify unsafe operating conditions to enable to talk knowledgably to in-house safety professionals or contract organizations. Sources of safety information in the literature and via the internet will be provided. The course provides lists of reagents and functional groups that should trigger safety testing studies. Methods used in other companies for handling hazardous reagents and reactions will be provided. Alternatives reagents or substitutes for hazardous materials will also be discussed. Recommendations will be provided for making the first sample of a product where there may be safety or stability concern WHO SHOULD ATTEND: Any laboratory chemist involved in the scale-up to large scale equipment/kilo lab WHAT'S INCLUDED: he course fee includes:Link to watch all four live sessions. Electronic version of the course manual*Course certificate. For this on line course, there will be no recordings available and *the e reader manual is NOT printable or downloadable (due to copyright).  If you prefer a hard copy of the manual you will have the opportunity of purchasing a professionally printed hard copy during the booking process.\n",
      "\n",
      "\n",
      "pitch\n",
      "-------\n",
      "We are delighted to be able to offer this course now ONLINE, this two-day course will be divided up into four sessions using an online platform, dates and times are as follows and set in BST (British Summer Time): Tuesday May 3rd | 2.00pm – 5.00pm BST Wednesday May 4th| 2.00pm – 5.00pm BST Thursday May 5th | 2.00pm – 5.00pm BST Friday May 6th | 2.00pm – 5.00pm BST The safety of chemical processes is critical for the whole chemical industry. It is vital that process development chemists and engineers are able to identify aspects of the chemistry that may be hazardous or pose a risk to the safety of the process or equipment. In order to do this, they need to know when to proactively engage colleagues or contractors to carry out process safety testing and hazard analysis, which in turn requires a knowledge of the equipment and test methods available. As chemical reactions are scaled up and operations become more economic the ability to remove heat from exothermic events becomes reduced and at the same time the outcome of any incident becomes much more severe. This is an almost unique course on the safety of chemical reactions and processes that are designed by chemists for chemists (and engineers) with the ultimate aim of helping the chemical industry reduce the number of chemical or process related incidents.\n",
      "\n",
      "\n",
      "price\n",
      "-------\n",
      "1499.00\n",
      "\n",
      "\n",
      "currency\n",
      "-------\n",
      "£\n",
      "\n",
      "\n"
     ]
    }
   ],
   "source": [
    "for key in data.keys():\n",
    "    print(key)\n",
    "    print(\"-------\")\n",
    "    print(data[key])\n",
    "    print(\"\\n\")"
   ]
  },
  {
   "cell_type": "code",
   "execution_count": 26,
   "id": "816f727b",
   "metadata": {},
   "outputs": [],
   "source": [
    "url_list=[\"https://www.scientificupdate.com/training_courses/heat-transfer-equipment-and-drying-module-3-3/20220513/\",\"https://www.scientificupdate.com/training_courses/design-development-and-scale-up-of-safe-chemical-processes-and-operations-2/20220627/\",\"https://www.scientificupdate.com/training_courses/practical-management-of-impurities-and-development-of-effective-and-comprehensive-control-strategies-9/20220322/\",\"https://www.scientificupdate.com/training_courses/safety-selectivity-in-the-scale-up-of-chemical-reactions-11/20220503/\"]"
   ]
  },
  {
   "cell_type": "code",
   "execution_count": 27,
   "id": "ece7ed28",
   "metadata": {},
   "outputs": [
    {
     "name": "stdout",
     "output_type": "stream",
     "text": [
      "scrapping\n",
      "scrapping\n",
      "scrapping\n",
      "scrapping\n",
      "4\n"
     ]
    }
   ],
   "source": [
    "data = []\n",
    "for url in url_list:\n",
    "    print(\"scrapping\")\n",
    "    result = requests.get(url)\n",
    "    content = result.text\n",
    "    soup = BeautifulSoup(content, \"lxml\")\n",
    "    info = scrapCourse(soup)\n",
    "    data.append(info)\n",
    "\n",
    "print(len(data))"
   ]
  },
  {
   "cell_type": "code",
   "execution_count": 28,
   "id": "1c509ed0",
   "metadata": {},
   "outputs": [
    {
     "name": "stdout",
     "output_type": "stream",
     "text": [
      "NEW PAGE\n",
      "---------------\n",
      "\n",
      "title\n",
      "------------------\n",
      "\n",
      "Heat transfer equipment and drying – module 3\n",
      "\n",
      "\n",
      "date\n",
      "------------------\n",
      "\n",
      "13 May - 13 May 2022\n",
      "\n",
      "\n",
      "location\n",
      "------------------\n",
      "\n",
      "Online Platform\n",
      "\n",
      "\n",
      "information\n",
      "------------------\n",
      "\n",
      "MODULE OUTLINE: Module Outline. Based on the well-received face-to-face Chemical Engineering course, these modules have been structured to provide flexibility in a virtual training environment.  Interactivity is retained by enabling participants to split out into virtual break-out rooms to work on examples that help cement understanding of the material presented. Each module duration will be 3 hours.Heat transfer utilities and equipment. Heat transfer calculations. Types of heat transfer equipment. Heat transfer in batch vessels. Evaporation. Joule-Thomson effect. Drying. Humidity and the drying process. Application to solvents. Dryer design & equipment MODULE OBJECTIVES: Chemists, biologists and engineers regularly interact and collaborate in process R&D projects. For effective team working they should each understand the needs and objectives of the other disciplines.These modules give scientists and other engineering disciplines an introduction to some key aspects of the application of chemical engineering science to…1) Fluid transfer and liquid mixing2) Mass transfer applications3) Heat transfer equipment and Drying. The objective is to enable delegates to be aware of the impact of chemical engineering principles on successful scale-up and process problem solving.  The principle aim is that delegates will be able to discuss chemical engineering issues affecting their processes and relate them to their own areas of expertise. WHAT'S INCLUDED: The course fee includes:one modulecourse certificate at the end. E Reader version of the manual. Please note recordings of any sessions will not be shared.\n",
      "\n",
      "\n",
      "pitch\n",
      "------------------\n",
      "\n",
      "This ONLINE short course is split into 3 modules and part of the well-received “Chemical Engineering: What Scientists and Other Disciplines Need to Know” course. You can have the choice to attend one, two or all three modules.  This module is set to take place on  Friday May 13th at 2.00pm – 5.00pm BST (British Summer Time)   If you are also interested in the full Introduction to Chemical Engineering Science, click here for more details.  These modules have been developed, and are presented, by chemical engineers and chemists who specialise in facilitating knowledge transfer and understanding between different scientific and engineering disciplines working at the R&D-manufacturing interface. They do not dwell on the derivation of mathematical formulae or equations used in chemical engineering design, but instead focuses on what other disciplines need to know about the information and data that chemical engineers require for design, scale-up and process troubleshooting. Chemical engineering without mathematics is impossible, but only relevant mathematics is presented at a level that should not trouble anyone with a numerate scientific degree.   Other disciplines do not need to know how to design plants or equipment and the modules do not attempt to teach this. They focus on understanding chemical engineering principles to promote clear communication between disciplines, facilitating information and knowledge transfer. If you are interested in the other two modules, please click on the dates below, along with the Introduction to Chemical Engineering.  Please note there is a special discount if you attend the full course and all three modules. Module 1 – Fluid Transfer and Liquid Mixing | Wednesday, May 11th – 2.00pm – 5.00pm BST Module 2 – Mass Transfer Applications  | Thursday,  May 12th – 2.00pm – 5.00pm BST Introduction to Chemical Engineering Virtual Course | April 25th – 28th – 2.00pm – 5.00pm BST\n",
      "\n",
      "\n",
      "price\n",
      "------------------\n",
      "\n",
      "269.00\n",
      "\n",
      "\n",
      "currency\n",
      "------------------\n",
      "\n",
      "£\n",
      "\n",
      "\n",
      "NEW PAGE\n",
      "---------------\n",
      "\n",
      "title\n",
      "------------------\n",
      "\n",
      "Design, development and scale-up of safe chemical processes and operations\n",
      "\n",
      "\n",
      "date\n",
      "------------------\n",
      "\n",
      "27 June - 29 June 2022\n",
      "\n",
      "\n",
      "location\n",
      "------------------\n",
      "\n",
      "Winchester, UK\n",
      "\n",
      "\n",
      "information\n",
      "------------------\n",
      "\n",
      "COURSE OUTLINE: To train chemists and engineers in efficient methods for developing safe, low cost, robust chemical processes in the minimum amount of time. To improve the awareness of chemists on the principles of scale-up and development, in chemical engineering concepts relating to safe plant operation and in the latest techniques for the optimisation of processes. To learn from the experience (and mistakes) of others by examining case studies from industry. The first two days of the course outline the fundamental science of exothermic reaction hazards and thermal stability and introduces methodologies available to qualify and quantify relevant parameters. This provides decision-making tools for all stages of design, development and production such that reaction hazards are known and can be reliably avoided BENEFITS OF ATTENDING: The ability to identify any significant sources of hazard in existing processes or development plans. An understanding of the latest techniques for assessing risk, and measuring and quantifying chemical process hazards in the work place. An understanding of the established best practice to reduce the hazard resulting from exothermic reaction systems with a particular emphasis on emergency relief design WHO SHOULD ATTEND AND WHATS INCLUDED: Process R&D Chemists, Production Chemists, Chemical Engineers and anyone whose responsibilities include safety or risk assessment of chemical processes or building safety into chemical process scale-up.The course fee includes:comprehensive course manualcoffee/tea refreshments breaks throughout each daybuffet lunch each daycourse dinner on the first eveningcourse certificate DEKRA PROCESS SAFETY: DEKRA Process Safety is an independent company specialising in process safety.  They provide a range of services to help industry reduce the risk of hazards in their processes, including consulting advice, incident investigation, laboratory testing, contract research and development and the provision of training courses.  Their consulting engineers have practical experience in industry to complement their expertise in process safety.DEKRA Process Safety has a worldwide client base, with experience helping many leading manufacturers in the chemical and processing industries. The company has its headquarters at Southampton in the UK with other facilities in USA (Princeton, New Jersey), Italy (Milan), France (Lyon), Spain (Valencia), Netherlands, Ireland and India (Delhi, Mumbai and Chennai).Their senior consulting staff are internationally recognised experts in their fields, who serve on international standards committees and frequently lecture at conferences and seminars.For further information telephone +44 (0) 23 8076 0722   or email [email protected]\n",
      "\n",
      "\n",
      "pitch\n",
      "------------------\n",
      "\n",
      "Developing safe processes is of paramount importance to any chemical company. Exothermic chemical reactions in batch and semi- batch processes can result in serious injury to people and plant if they get out of control. Results of thermal runaways include violent loss of containment, possibly explosion and the release of flammable or toxic materials to the environment. Employers are bound by Health & Safety legislation to ensure the safety of their employees and those outside their employment who might be affected by their activities. Chemical manufacturers must therefore be aware of all potential dangers in their processes and take steps to eliminate them. The best approach is to design safety into the process from the start. Often, the first sign of loss of control over a reaction is a reduction in yield or in the quality of the product. Thus safety, quality and profitability are all interlinked. The fourth and fifth day of the course focuses on plant protection and safety systems designed to prevent or protect against runaway reaction scenarios. This includes extensive discussion and workshops on process control strategies and emergency relief system design for two-phase relief using DIERS methodology. The course makes extensive use of case studies to help embed principles and key learning points such that attendees leave with tools they can immediately deploy. This seminar is designed to enhance the awareness of chemists and engineers regarding hazard issues. Utilising the expertise of the chemists and chemical engineers at DEKRA and Scientific Update, it will consider hazard control of new chemical processes throughout their development cycle: from early development through to full-scale production. Hazards can often be eliminated by appropriate choice of reagent or synthetic route at the R&D stage. Where this is not possible, techniques exist to quantify the hazards so that robust engineering solutions can he applied in production.\n",
      "\n",
      "\n",
      "price\n",
      "------------------\n",
      "\n",
      "1599.00\n",
      "\n",
      "\n",
      "currency\n",
      "------------------\n",
      "\n",
      "£\n",
      "\n",
      "\n",
      "NEW PAGE\n",
      "---------------\n",
      "\n",
      "title\n",
      "------------------\n",
      "\n",
      "Practical management of impurities and development of effective and comprehensive control strategies\n",
      "\n",
      "\n",
      "date\n",
      "------------------\n",
      "\n",
      "22 March - 30 March 2022\n",
      "\n",
      "\n",
      "location\n",
      "------------------\n",
      "\n",
      "Online Platform\n",
      "\n",
      "\n",
      "information\n",
      "------------------\n",
      "\n",
      "COURSE OUTLINE: This 4 session online course is aimed at providing a holistic understanding of the challenges and issues associated with implementing an effective control strategy for all impurity types. It will examine key areas, specifically, impurity qualification, mutagenic impurities, elemental impurities, extractives and leachables and solvents. In each case it will examine practical approaches through both case studies and practical exercises and in all instances provide clarity as to the current and emerging regulatory frameworks BENEFITS OF ATTENDING: What will attendees gain from the course?What are the key impurity classes and how they relate to the overall manufacturing process.A clear understanding of the pivotal role played by chemists and analysts in the impurity management process.How to effectively relate product quality to impurity qualification ensuring that qualification studies properly align to process capability.How to align impurity management to the over process control strategy – to optimise effective control.How to use effective impurity management to drive key process and regulatory decisions e.g. starting material definition and defence. WHO SHOULD ATTEND: Scientists, managers and team leaders involved in the development of pharmaceuticals and Engineers.  This course is particularly relevant to process development chemists and analysts at all levels, but will also be of interest to late stage medicinal chemists who want to gain a greater understanding of the impact of impurities WHAT'S INCLUDED: The course fee includes:Link to watch all four live sessions. Electronic version of the course manual*Course certificate. For this on line course, there will be no recordings available and *the e reader manual is NOT printable or downloadable (due to copyright).  If you prefer a hard copy of the manual you will have the opportunity of purchasing a professionally printed hard copy during the booking process.\n",
      "\n",
      "\n",
      "pitch\n",
      "------------------\n",
      "\n",
      "This Online course is aimed at providing a holistic understanding of the challenges and issues associated with implementing an effective control strategy for all impurity types. It will examine key areas, specifically, impurity qualification, mutagenic impurities, elemental impurities, extractives and leachables and solvents. In each case, it will examine practical approaches through both case studies and practical exercises and in all instances provide clarity as to the current and emerging regulatory frameworks. The course also looks at other impurity related areas such as shared facilities, both the guideline and recent Q&A document, finishing with a look to the future and the challenges associated with new modalities including Oligonucleotides and Antibody Drug Conjugates. The course will be split over four sessions as follows in UK time: Tuesday, March 22nd | 1.30pm – 5.30pm GMT Wednesday, March 23rd | 1.30pm – 5.30pm GMT Tuesday, March 29th | 1.30pm – 5.30pm GMT Wednesday, March 30th | 1.30pm – 5.30pm GMT\n",
      "\n",
      "\n",
      "price\n",
      "------------------\n",
      "\n",
      "1595.00\n",
      "\n",
      "\n",
      "currency\n",
      "------------------\n",
      "\n",
      "£\n",
      "\n",
      "\n",
      "NEW PAGE\n",
      "---------------\n",
      "\n",
      "title\n",
      "------------------\n",
      "\n",
      "Safety & selectivity in the scale-up of chemical reactions\n",
      "\n",
      "\n",
      "date\n",
      "------------------\n",
      "\n",
      "03 May - 06 May 2022\n",
      "\n",
      "\n",
      "location\n",
      "------------------\n",
      "\n",
      "Online Platform\n",
      "\n",
      "\n",
      "information\n",
      "------------------\n",
      "\n",
      "COURSE OUTLINE: The aim of the course is to give lab chemists an understanding of the issues that need to be considered during the early stages of scale up to large laboratory scale equipment (10-20 litre vessels) / kilo lab. The course will concentrate on chemical safety and selectivity issues and include information on what safety testing equipment is available and the uses and limitations of this equipment. Attendees will learn how to identify potential problems whether they be thermal hazards or selectivity issues. Methods used by other companies for handling hazardous reagents and reactions will be described as well as alternative chemistry to circumvent these reactions and/or reagents. BENEFITS OF ATTENDING: Attendees will learn how to identify potentially unsafe chemical processes, particularly those that pose more a danger on scale. They will learn about what testing procedures are available to help them identify unsafe operating conditions to enable to talk knowledgably to in-house safety professionals or contract organizations. Sources of safety information in the literature and via the internet will be provided. The course provides lists of reagents and functional groups that should trigger safety testing studies. Methods used in other companies for handling hazardous reagents and reactions will be provided. Alternatives reagents or substitutes for hazardous materials will also be discussed. Recommendations will be provided for making the first sample of a product where there may be safety or stability concern WHO SHOULD ATTEND: Any laboratory chemist involved in the scale-up to large scale equipment/kilo lab WHAT'S INCLUDED: he course fee includes:Link to watch all four live sessions. Electronic version of the course manual*Course certificate. For this on line course, there will be no recordings available and *the e reader manual is NOT printable or downloadable (due to copyright).  If you prefer a hard copy of the manual you will have the opportunity of purchasing a professionally printed hard copy during the booking process.\n",
      "\n",
      "\n",
      "pitch\n",
      "------------------\n",
      "\n",
      "We are delighted to be able to offer this course now ONLINE, this two-day course will be divided up into four sessions using an online platform, dates and times are as follows and set in BST (British Summer Time): Tuesday May 3rd | 2.00pm – 5.00pm BST Wednesday May 4th| 2.00pm – 5.00pm BST Thursday May 5th | 2.00pm – 5.00pm BST Friday May 6th | 2.00pm – 5.00pm BST The safety of chemical processes is critical for the whole chemical industry. It is vital that process development chemists and engineers are able to identify aspects of the chemistry that may be hazardous or pose a risk to the safety of the process or equipment. In order to do this, they need to know when to proactively engage colleagues or contractors to carry out process safety testing and hazard analysis, which in turn requires a knowledge of the equipment and test methods available. As chemical reactions are scaled up and operations become more economic the ability to remove heat from exothermic events becomes reduced and at the same time the outcome of any incident becomes much more severe. This is an almost unique course on the safety of chemical reactions and processes that are designed by chemists for chemists (and engineers) with the ultimate aim of helping the chemical industry reduce the number of chemical or process related incidents.\n",
      "\n",
      "\n",
      "price\n",
      "------------------\n",
      "\n",
      "1499.00\n",
      "\n",
      "\n",
      "currency\n",
      "------------------\n",
      "\n",
      "£\n",
      "\n",
      "\n"
     ]
    }
   ],
   "source": [
    "for entry in data:\n",
    "    print(\"NEW PAGE\\n---------------\\n\")\n",
    "    for key in entry.keys():\n",
    "        print(key)\n",
    "        print(\"------------------\\n\")\n",
    "        print(entry[key])\n",
    "        print(\"\\n\")\n",
    "    "
   ]
  },
  {
   "cell_type": "code",
   "execution_count": null,
   "id": "2a81fa74",
   "metadata": {},
   "outputs": [],
   "source": []
  }
 ],
 "metadata": {
  "kernelspec": {
   "display_name": "scrapping",
   "language": "python",
   "name": "scrapping"
  },
  "language_info": {
   "codemirror_mode": {
    "name": "ipython",
    "version": 3
   },
   "file_extension": ".py",
   "mimetype": "text/x-python",
   "name": "python",
   "nbconvert_exporter": "python",
   "pygments_lexer": "ipython3",
   "version": "3.10.0"
  }
 },
 "nbformat": 4,
 "nbformat_minor": 5
}
