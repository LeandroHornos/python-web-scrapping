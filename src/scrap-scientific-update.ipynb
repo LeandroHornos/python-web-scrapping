{
 "cells": [
  {
   "cell_type": "markdown",
   "id": "b343b4f7",
   "metadata": {},
   "source": [
    "# Scrapping Scientific Update's Website\n",
    "The idea behind this notebook is to practice web scrapping skills. Scientific Update is a company that dictates training courses for professionals in chemistry, having a special focus on process chemistry and, particularly on organic sythesis. \n",
    "Our goal is to be able to develop a simple system that extract the info about all the courses that the company provides and to analyze the data in order to get some insights"
   ]
  },
  {
   "cell_type": "code",
   "execution_count": 1,
   "id": "e9536a78",
   "metadata": {},
   "outputs": [],
   "source": [
    "import json\n",
    "from bs4functions import crawlScientificUpdate"
   ]
  },
  {
   "cell_type": "code",
   "execution_count": 2,
   "id": "deb1fdf1",
   "metadata": {},
   "outputs": [
    {
     "name": "stdout",
     "output_type": "stream",
     "text": [
      "Getting links from first page...\n",
      "Getting links from next page...\n",
      "Getting links from next page...\n",
      "Getting links from next page...\n",
      "Getting links from next page...\n",
      "Done!\n",
      "Scrapping started\n",
      "Scraping https://www.scientificupdate.com/training_courses/applied-mixing-technology-for-process-development-scaling-down-to-scale-up-5/20220314/...\n",
      "Scraping https://www.scientificupdate.com/training_courses/practical-management-of-impurities-and-development-of-effective-and-comprehensive-control-strategies-9/20220322/...\n",
      "Scraping https://www.scientificupdate.com/training_courses/biocatalysis-as-a-tool-for-the-synthetic-chemist-7/20220328/...\n",
      "Scraping https://www.scientificupdate.com/training_courses/an-introduction-to-chemical-engineering-science-3/20220425/...\n",
      "Scraping https://www.scientificupdate.com/training_courses/scale-up-what-goes-wrong-short-course-2/20220426/...\n",
      "Scraping https://www.scientificupdate.com/training_courses/safety-selectivity-in-the-scale-up-of-chemical-reactions-11/20220503/...\n",
      "Scraping https://www.scientificupdate.com/training_courses/solvents-and-solvent-selection-in-chemical-manufacturing/20220511/...\n",
      "Scraping https://www.scientificupdate.com/training_courses/fluid-transfer-and-liquid-mixing-module-1-3/20220511/...\n",
      "Scraping https://www.scientificupdate.com/training_courses/mass-transfer-applications-module-2-2/20220512/...\n",
      "Scraping https://www.scientificupdate.com/training_courses/heat-transfer-equipment-and-drying-module-3-3/20220513/...\n",
      "Scraping https://www.scientificupdate.com/training_courses/medicinal-chemistry-7/20220516/...\n",
      "Scraping https://www.scientificupdate.com/training_courses/secrets-of-batch-process-scale-up-17/20220516/...\n",
      "Scraping https://www.scientificupdate.com/training_courses/organocatalysis-short-course/20220606/...\n",
      "Scraping https://www.scientificupdate.com/training_courses/biocatalysis-solving-scale-up-issues-with-biocatalysed-reactions/20220607/...\n",
      "Scraping https://www.scientificupdate.com/training_courses/understanding-process-plant-cleaning-for-more-efficient-changeovers/20220608/...\n",
      "Scraping https://www.scientificupdate.com/training_courses/filtration-and-drying-course-2/20220614/...\n",
      "Scraping https://www.scientificupdate.com/training_courses/chemical-development-scale-up-in-the-fine-chemical-pharmaceutical-industries-32/20220614/...\n",
      "Something went wrong with this url 'NoneType' object is not subscriptable\n",
      "Scraping https://www.scientificupdate.com/training_courses/chemical-development-scale-up-in-the-fine-chemical-pharmaceutical-industries-30/20220615/...\n",
      "Something went wrong with this url 'NoneType' object is not subscriptable\n",
      "Scraping https://www.scientificupdate.com/training_courses/safety-selectivity-in-the-scale-up-of-chemical-reactions-14/20220620/...\n",
      "Scraping https://www.scientificupdate.com/training_courses/quality-by-design-in-pharmaceutical-development-7/20220627/...\n",
      "Scraping https://www.scientificupdate.com/training_courses/heterogeneous-catalytic-hydrogenation-5/20220627/...\n",
      "Something went wrong with this url 'NoneType' object is not subscriptable\n",
      "Scraping https://www.scientificupdate.com/training_courses/design-development-and-scale-up-of-safe-chemical-processes-and-operations-2/20220627/...\n",
      "Scraping https://www.scientificupdate.com/training_courses/flow-chemistry-and-masterclass/20220629/...\n",
      "Something went wrong with this url 'NoneType' object is not subscriptable\n",
      "Scraping https://www.scientificupdate.com/training_courses/design-of-experiments-for-chemists-and-engineers-8/20220711/...\n",
      "Something went wrong with this url 'NoneType' object is not subscriptable\n",
      "Scraping https://www.scientificupdate.com/training_courses/virtual-training-event-grignard-chemistry-short-course/20220712/...\n",
      "Scraping https://www.scientificupdate.com/training_courses/chemical-development-scale-up-in-the-fine-chemical-pharmaceutical-industries-35/20220714/...\n",
      "Scraping https://www.scientificupdate.com/training_courses/synthetic-organic-electrochemistry-short-course-2/20220718/...\n",
      "Scraping https://www.scientificupdate.com/training_courses/physical-organic-chemistry-concepts-for-process-development-2/20220914/...\n",
      "Scraping https://www.scientificupdate.com/training_courses/secrets-of-batch-process-scale-up-18/20220927/...\n",
      "Something went wrong with this url 'NoneType' object is not subscriptable\n",
      "Scraping https://www.scientificupdate.com/training_courses/chemical-development-scale-up-in-the-fine-chemical-pharmaceutical-industries-33/20220928/...\n",
      "Something went wrong with this url 'NoneType' object is not subscriptable\n",
      "Scraping https://www.scientificupdate.com/training_courses/applied-mixing-technology-for-process-development-scaling-down-to-scale-up-4/20221003/...\n",
      "Scraping https://www.scientificupdate.com/training_courses/modern-synthetic-organic-reactions-5/20221004/...\n",
      "Something went wrong with this url 'NoneType' object is not subscriptable\n",
      "Scraping https://www.scientificupdate.com/training_courses/green-chemistry-towards-more-sustainable-synthesis/20221004/...\n",
      "Scraping https://www.scientificupdate.com/training_courses/practical-management-of-impurities-and-development-of-effective-and-comprehensive-control-strategies-copy/20221011/...\n",
      "Something went wrong with this url 'NoneType' object is not subscriptable\n",
      "Scraping https://www.scientificupdate.com/training_courses/safety-selectivity-in-the-scale-up-of-chemical-reactions-12/20221013/...\n",
      "Scraping https://www.scientificupdate.com/training_courses/chemical-development-scale-up-in-the-fine-chemical-pharmaceutical-industries-34/20221017/...\n",
      "Something went wrong with this url 'NoneType' object is not subscriptable\n",
      "Scraping https://www.scientificupdate.com/training_courses/chemical-engineering-what-scientists-and-other-engineers-need-to-know-7/20221101/...\n",
      "Something went wrong with this url 'NoneType' object is not subscriptable\n",
      "Scraping https://www.scientificupdate.com/training_courses/design-of-experiments-for-chemists-and-engineers-9/20221101/...\n",
      "Something went wrong with this url 'NoneType' object is not subscriptable\n",
      "Scraping https://www.scientificupdate.com/training_courses/molecule-to-medicine-5/20221101/...\n",
      "Scraping https://www.scientificupdate.com/training_courses/safety-selectivity-in-the-scale-up-of-chemical-reactions-13/20221107/...\n",
      "Something went wrong with this url 'NoneType' object is not subscriptable\n",
      "Scraping https://www.scientificupdate.com/training_courses/understanding-polymorphism-crystallisation-issues-in-the-pharmaceutical-industry-6/20221109/...\n",
      "Something went wrong with this url 'NoneType' object is not subscriptable\n",
      "Scraping https://www.scientificupdate.com/training_courses/secrets-of-batch-process-scale-up-19/20221114/...\n",
      "Scraping https://www.scientificupdate.com/training_courses/work-up-and-product-isolation-2/20221115/...\n",
      "Scraping https://www.scientificupdate.com/training_courses/quality-by-design-in-pharmaceutical-development-8/20221128/...\n",
      "Scraping https://www.scientificupdate.com/training_courses/photoredox-catalysis-in-organic-synthesis/20221129/...\n",
      "Scraping done!\n",
      "We have obtained the info of 31 courses\n",
      "Errors ocurred in14 links\n"
     ]
    }
   ],
   "source": [
    "start_url = \"https://www.scientificupdate.com/training/courses/\"\n",
    "data = crawlScientificUpdate(start_url)"
   ]
  },
  {
   "cell_type": "code",
   "execution_count": 4,
   "id": "15249b2f",
   "metadata": {},
   "outputs": [
    {
     "name": "stdout",
     "output_type": "stream",
     "text": [
      "title\n",
      "-----------------------------\n",
      "Applied mixing technology for process development: scaling down to scale up\n",
      "\n",
      "\n",
      "date\n",
      "-----------------------------\n",
      "14 March - 17 March 2022\n",
      "\n",
      "\n",
      "location\n",
      "-----------------------------\n",
      "Online Platform\n",
      "\n",
      "\n",
      "information\n",
      "-----------------------------\n",
      "COURSE OUTLINE: Why learn about mixing and what is “mixing” anyway?An introduction to some example industrial processes with multiple mixing requirements. Foundations of mixing technology:  power, flow, and “shear” (with some discussion of rheology)An introduction to mixing applications, revisiting the example processes. Single-phase mixing applications and how they scale. Miscible liquid blending (macromixing)Heat transfer. Multiple-phase mixing applications and how they scale. Solid-liquid mixing. Liquid-liquid dispersion. Gas-liquid dispersion. Three-phase mixing. Competitive rate processes (micromixing and mesomixing)Mixing-sensitive reactions. Crystallizations and precipitations. An efficient experimental method for screening mixing sensitivities:  the Bourne Protocol. Balancing different mixing requirements during scale-up and scale-down:  scaling competitive rate processes and optimization WHO SHOULD ATTEND: Scientists and engineers in the chemical and pharmaceutical industries who are involved in process development, scale-up/scale-down, troubleshooting, and process optimization. TAKE-HOME MESSAGES: Mixing moderates some rate processes that can be critical for successful process results.Power, flow, and “shear” are the foundation upon which we can evaluate mixing applications.Predicable mixing performance can be estimated for single phase and multiple phase systems, along with the boundaries of “not enough mixing” and “too much mixing”.You cannot keep all mixing parameters the same when you scale up. WHAT'S INCLUDED: The course fee includes:Link to watch all two live sessions. Electronic version of the course manual*Course certificate. For this on line course, there will be no recordings available and *the e reader manual is NOT printable or downloadable (due to copyright).  If you prefer a hard copy of the manual you will have the opportunity of purchasing a professionally printed hard copy during the booking process.\n",
      "\n",
      "\n",
      "pitch\n",
      "-----------------------------\n",
      "This is a NEW online short course and will be held Live via a Virtual Platform over four sessions – listed below. Monday, March 14 | 2.00pm – 5.00pm GMT Tuesday, March 15| 2.00pm – 5.00pm GMT Wednesday, March 16 | 2.00pm – 5.00pm GMT Thursday, March 17 | 2.00pm – 5.00pm GMT Course Introduction  Use of the proper mixing technology is often essential for successful process results.  This online course considers how we can choose appropriate mixing conditions for laboratory, pilot, and commercial scale units to ensure technical success.  The course begins by rooting us in some essential basics of mixing technology.  With those fundamentals, we then progress through different mixing applications in increasing levels of complexity:  single-phase (blending and heat transfer), multiple phase (solid-liquid, immiscible liquid, gas-liquid, and 3-phase), and mixing in competitive rate processes (reactions and crystallizations).  Throughout, we look at scale-up and scale-down by using examples from industrial processes which have a variety of mixing requirements.  We will discuss how to design and execute practical experiments at the small scale which can identify mixing sensitivities in a process that could be an issue on scale-up.  Though primarily focusing on operations in stirred tanks, we will also discuss mixing applications in flow systems like static mixers.\n",
      "\n",
      "\n",
      "price\n",
      "-----------------------------\n",
      "1295.00\n",
      "\n",
      "\n",
      "currency\n",
      "-----------------------------\n",
      "£\n",
      "\n",
      "\n",
      "link\n",
      "-----------------------------\n",
      "https://www.scientificupdate.com/training_courses/applied-mixing-technology-for-process-development-scaling-down-to-scale-up-5/20220314/\n",
      "\n",
      "\n"
     ]
    }
   ],
   "source": [
    "with open('scrapped-data-20220315.json', 'w') as fp:\n",
    "    json.dump(data[\"courses\"], fp)\n",
    "    \n",
    "courses = data[\"courses\"]\n",
    "\n",
    "for key in courses[0].keys():\n",
    "    print(key)\n",
    "    print(\"-----------------------------\")\n",
    "    print(courses[0][key])\n",
    "    print(\"\\n\")"
   ]
  },
  {
   "cell_type": "code",
   "execution_count": null,
   "id": "ec9458f8",
   "metadata": {},
   "outputs": [],
   "source": []
  }
 ],
 "metadata": {
  "kernelspec": {
   "display_name": "scrapping",
   "language": "python",
   "name": "scrapping"
  },
  "language_info": {
   "codemirror_mode": {
    "name": "ipython",
    "version": 3
   },
   "file_extension": ".py",
   "mimetype": "text/x-python",
   "name": "python",
   "nbconvert_exporter": "python",
   "pygments_lexer": "ipython3",
   "version": "3.10.0"
  }
 },
 "nbformat": 4,
 "nbformat_minor": 5
}
