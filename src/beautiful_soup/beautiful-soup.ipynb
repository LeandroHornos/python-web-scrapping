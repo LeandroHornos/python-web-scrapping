{
 "cells": [
  {
   "cell_type": "markdown",
   "id": "b343b4f7",
   "metadata": {},
   "source": [
    "# Scrapping Scientific Update's Website\n",
    "The idea behind this notebook is to practice web scrapping skills. Scientific Update is a company that dictates training courses for professionals in chemistry, having a special focus on process chemistry and, particularly on organic sythesis. \n",
    "Our goal is to be able to develop a simple system that extract the info about all the courses that the company provides and to analyze the data in order to get some insights"
   ]
  },
  {
   "cell_type": "code",
   "execution_count": 1,
   "id": "7f054688",
   "metadata": {},
   "outputs": [],
   "source": [
    "# Web Scrapping\n",
    "import requests\n",
    "from bs4 import BeautifulSoup"
   ]
  },
  {
   "cell_type": "code",
   "execution_count": 2,
   "id": "c5a6db88",
   "metadata": {},
   "outputs": [],
   "source": [
    "website = \"https://www.scientificupdate.com/training_courses/safety-selectivity-in-the-scale-up-of-chemical-reactions-11/20220503/\"\n",
    "result = requests.get(website)\n",
    "content = result.text\n",
    "\n",
    "soup = BeautifulSoup(content, \"lxml\")"
   ]
  },
  {
   "cell_type": "markdown",
   "id": "412ebb5b",
   "metadata": {},
   "source": [
    "## Get the course data"
   ]
  },
  {
   "cell_type": "code",
   "execution_count": 3,
   "id": "e9536a78",
   "metadata": {},
   "outputs": [],
   "source": [
    "from bs4functions import scrapCourse"
   ]
  },
  {
   "cell_type": "code",
   "execution_count": 4,
   "id": "deb1fdf1",
   "metadata": {},
   "outputs": [
    {
     "name": "stdout",
     "output_type": "stream",
     "text": [
      "dict_keys(['title', 'course-outline', 'benefits-of-attending', 'who-should-attend', 'whats-included', 'dates', 'mode', 'pitch', 'price', 'currency'])\n"
     ]
    }
   ],
   "source": [
    "data = scrapCourse(soup)\n",
    "\n",
    "print(data.keys())"
   ]
  },
  {
   "cell_type": "code",
   "execution_count": 5,
   "id": "15249b2f",
   "metadata": {},
   "outputs": [
    {
     "name": "stdout",
     "output_type": "stream",
     "text": [
      "title\n",
      "-----------------------------\n",
      "Safety & Selectivity in the Scale-Up of Chemical Reactions\n",
      "\n",
      "\n",
      "course-outline\n",
      "-----------------------------\n",
      "The aim of the course is to give lab chemists an understanding of the issues that need to be considered during the early stages of scale up to large laboratory scale equipment (10-20 litre vessels) / kilo lab. The course will concentrate on chemical safety and selectivity issues and include information on what safety testing equipment is available and the uses and limitations of this equipment. Attendees will learn how to identify potential problems whether they be thermal hazards or selectivity issues. Methods used by other companies for handling hazardous reagents and reactions will be described as well as alternative chemistry to circumvent these reactions and/or reagents.\n",
      "\n",
      "\n",
      "benefits-of-attending\n",
      "-----------------------------\n",
      "Attendees will learn how to identify potentially unsafe chemical processes, particularly those that pose more a danger on scale. They will learn about what testing procedures are available to help them identify unsafe operating conditions to enable to talk knowledgably to in-house safety professionals or contract organizations. Sources of safety information in the literature and via the internet will be provided. The course provides lists of reagents and functional groups that should trigger safety testing studies. Methods used in other companies for handling hazardous reagents and reactions will be provided. Alternatives reagents or substitutes for hazardous materials will also be discussed. Recommendations will be provided for making the first sample of a product where there may be safety or stability concern.  \n",
      "\n",
      "\n",
      "who-should-attend\n",
      "-----------------------------\n",
      "Any laboratory chemist involved in the scale-up to large scale equipment/kilo lab\n",
      "\n",
      "\n",
      "whats-included\n",
      "-----------------------------\n",
      "he course fee includes: Link to watch all four live sessions. Electronic version of the course manual*. Course certificate. For this on line course, there will be no recordings available and *the e reader manual is NOT printable or downloadable (due to copyright).  If you prefer a hard copy of the manual you will have the opportunity of purchasing a professionally printed hard copy during the booking process.\n",
      "\n",
      "\n",
      "dates\n",
      "-----------------------------\n",
      "['Tuesday May 3rd;  2.00pm – 5.00pm BST', 'Wednesday May 4th; 2.00pm – 5.00pm BST', 'Thursday May 5th; 2.00pm – 5.00pm BST', 'Friday May 6th; 2.00pm – 5.00pm BST']\n",
      "\n",
      "\n",
      "mode\n",
      "-----------------------------\n",
      "online\n",
      "\n",
      "\n",
      "pitch\n",
      "-----------------------------\n",
      "The safety of chemical processes is critical for the whole chemical industry. It is vital that process development chemists and engineers are able to identify aspects of the chemistry that may be hazardous or pose a risk to the safety of the process or equipment. In order to do this, they need to know when to proactively engage colleagues or contractors to carry out process safety testing and hazard analysis, which in turn requires a knowledge of the equipment and test methods available. As chemical reactions are scaled up and operations become more economic the ability to remove heat from exothermic events becomes reduced and at the same time the outcome of any incident becomes much more severe. This is an almost unique course on the safety of chemical reactions and processes that are designed by chemists for chemists (and engineers) with the ultimate aim of helping the chemical industry reduce the number of chemical or process related incidents.\n",
      "\n",
      "\n",
      "price\n",
      "-----------------------------\n",
      "1499.00\n",
      "\n",
      "\n",
      "currency\n",
      "-----------------------------\n",
      "£\n",
      "\n",
      "\n"
     ]
    }
   ],
   "source": [
    "for key in data.keys():\n",
    "    print(key)\n",
    "    print(\"-----------------------------\")\n",
    "    print(data[key])\n",
    "    print(\"\\n\")"
   ]
  }
 ],
 "metadata": {
  "kernelspec": {
   "display_name": "scrapping",
   "language": "python",
   "name": "scrapping"
  },
  "language_info": {
   "codemirror_mode": {
    "name": "ipython",
    "version": 3
   },
   "file_extension": ".py",
   "mimetype": "text/x-python",
   "name": "python",
   "nbconvert_exporter": "python",
   "pygments_lexer": "ipython3",
   "version": "3.10.0"
  }
 },
 "nbformat": 4,
 "nbformat_minor": 5
}
